{
 "cells": [
  {
   "cell_type": "markdown",
   "id": "2606dc8e",
   "metadata": {},
   "source": [
    "_____________________________________________\n",
    "\n",
    "***Coding Tasks***"
   ]
  },
  {
   "cell_type": "markdown",
   "id": "574bc596",
   "metadata": {},
   "source": [
    "Task No.1\n",
    "\n",
    "Write the code to print out all the odd numbers from 1 to 19 (1, 3, 5, ... 19)"
   ]
  },
  {
   "cell_type": "code",
   "execution_count": 19,
   "id": "3d877ba7",
   "metadata": {},
   "outputs": [],
   "source": [
    "numbers = list(range(0,20))\n",
    "for odd_numbers in numbers.copy():\n",
    "    if odd_numbers%2 == 0:\n",
    "        del odd_numbers"
   ]
  },
  {
   "cell_type": "code",
   "execution_count": 20,
   "id": "2bf27177",
   "metadata": {},
   "outputs": [
    {
     "data": {
      "text/plain": [
       "19"
      ]
     },
     "execution_count": 20,
     "metadata": {},
     "output_type": "execute_result"
    }
   ],
   "source": [
    "odd_numbers"
   ]
  },
  {
   "cell_type": "code",
   "execution_count": null,
   "id": "48f264e3",
   "metadata": {},
   "outputs": [],
   "source": []
  }
 ],
 "metadata": {
  "kernelspec": {
   "display_name": "Python 3 (ipykernel)",
   "language": "python",
   "name": "python3"
  },
  "language_info": {
   "codemirror_mode": {
    "name": "ipython",
    "version": 3
   },
   "file_extension": ".py",
   "mimetype": "text/x-python",
   "name": "python",
   "nbconvert_exporter": "python",
   "pygments_lexer": "ipython3",
   "version": "3.9.13"
  }
 },
 "nbformat": 4,
 "nbformat_minor": 5
}
