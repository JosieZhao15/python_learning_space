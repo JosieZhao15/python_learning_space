{
 "cells": [
  {
   "cell_type": "markdown",
   "id": "e4083fcd",
   "metadata": {},
   "source": [
    "**Coding Task Code Review Feedback**\n",
    "\n",
    "This is the code review document. Under each coding task, there is ✅ (no issues) or ❗(needs ierations) to label if the solutions needs improvements, as well as additional feedbacks. In depth review feedbacks are documented in this Google Doc: https://docs.google.com/document/d/18euHpg-sGMxIUj3bmq4Ddp2A3fV938W9nahvSdkfLug/edit#\n",
    "\n",
    "____________________________________________\n",
    "\n",
    "**Task No.1 - Write the code to print out all the odd numbers from 1 to 19 (1, 3, 5, ... 19)**\n",
    "\n",
    "Code Review: ✅\n",
    "\n",
    "Feedback: solution #2 is the best solution. Solution 3 could have a better naming convention. \"odd_num\" is misleading because it indicates the value it contains should be odd numbers, but in fact it doesn't, it carries 1 to 10. So it's better to name variables more clearly."
   ]
  },
  {
   "cell_type": "code",
   "execution_count": 122,
   "id": "a1a5b01b",
   "metadata": {},
   "outputs": [
    {
     "data": {
      "text/plain": [
       "[1, 3, 5, 7, 9, 11, 13, 15, 17, 19]"
      ]
     },
     "execution_count": 122,
     "metadata": {},
     "output_type": "execute_result"
    }
   ],
   "source": [
    "#solution 1\n",
    "[*range(1,20,2)]  #using the argument unpack operator is *"
   ]
  },
  {
   "cell_type": "code",
   "execution_count": 5,
   "id": "aa62783e",
   "metadata": {},
   "outputs": [
    {
     "data": {
      "text/plain": [
       "[1, 3, 5, 7, 9, 11, 13, 15, 17, 19]"
      ]
     },
     "execution_count": 5,
     "metadata": {},
     "output_type": "execute_result"
    }
   ],
   "source": [
    "#solution 2\n",
    "list(range(1,20,2))"
   ]
  },
  {
   "cell_type": "code",
   "execution_count": 125,
   "id": "1ae00c93",
   "metadata": {},
   "outputs": [
    {
     "name": "stdout",
     "output_type": "stream",
     "text": [
      "1\n",
      "3\n",
      "5\n",
      "7\n",
      "9\n",
      "11\n",
      "13\n",
      "15\n",
      "17\n",
      "19\n"
     ]
    }
   ],
   "source": [
    "#solution 3\n",
    "for odd_num in range(1,20):\n",
    "    if odd_num % 2 == 1:\n",
    "    #mod numbers by 2\n",
    "        print(odd_num)\n",
    "        #using an if elif loop"
   ]
  },
  {
   "cell_type": "markdown",
   "id": "dd572059",
   "metadata": {},
   "source": [
    "**Task No.2 - Write the code to print out a countdown from 10 to 1 (10, 9, 8, ... 1)**\n",
    "\n",
    "Code Review: ❗\n",
    "\n",
    "Feedback: redo using a for loop instead of while loop, and try another solution using list() and range() functions. The for loop is better than while loop, because while loop is good for when you don't know exactly how many times you need to iterate. For example, if a user needs to enter username to login, and the program is built using for loop, then there would be limited number of times the user can enter the username. Whereas the while loop allows unlimited number of entries."
   ]
  },
  {
   "cell_type": "code",
   "execution_count": 1,
   "id": "8e8d92ec",
   "metadata": {},
   "outputs": [
    {
     "name": "stdout",
     "output_type": "stream",
     "text": [
      "10\n",
      "9\n",
      "8\n",
      "7\n",
      "6\n",
      "5\n",
      "4\n",
      "3\n",
      "2\n",
      "1\n"
     ]
    }
   ],
   "source": [
    "#initial solution\n",
    "\n",
    "countdown = 10\n",
    "\n",
    "while countdown > 0:\n",
    "    print(countdown)\n",
    "    countdown = countdown - 1"
   ]
  },
  {
   "cell_type": "code",
   "execution_count": 3,
   "id": "6434381a",
   "metadata": {},
   "outputs": [
    {
     "data": {
      "text/plain": [
       "[10, 9, 8, 7, 6, 5, 4, 3, 2, 1]"
      ]
     },
     "execution_count": 3,
     "metadata": {},
     "output_type": "execute_result"
    }
   ],
   "source": [
    "#New solution based on feedback\n",
    "list(range(10,0,-1))"
   ]
  },
  {
   "cell_type": "code",
   "execution_count": 10,
   "id": "f98cc309",
   "metadata": {},
   "outputs": [
    {
     "name": "stdout",
     "output_type": "stream",
     "text": [
      "10\n",
      "9\n",
      "8\n",
      "7\n",
      "6\n",
      "5\n",
      "4\n",
      "3\n",
      "2\n",
      "1\n"
     ]
    }
   ],
   "source": [
    "#New solution based on feedback\n",
    "for countdown in range(-10,0):\n",
    "    print(countdown*-1)"
   ]
  },
  {
   "cell_type": "markdown",
   "id": "e3b2de68",
   "metadata": {},
   "source": [
    "**Task No.3 - Write the code to print out \"forest\" 5 times.**\n",
    "\n",
    "Code Review: ✅\n",
    "\n",
    "Feedback: Nice. Perhaps use another name instead of `forest` in the for loop, for software engineering best practices."
   ]
  },
  {
   "cell_type": "code",
   "execution_count": 4,
   "id": "f9e1f9de",
   "metadata": {},
   "outputs": [
    {
     "name": "stdout",
     "output_type": "stream",
     "text": [
      "forestforestforestforestforest\n"
     ]
    }
   ],
   "source": [
    "print('forest'*5)"
   ]
  },
  {
   "cell_type": "code",
   "execution_count": 7,
   "id": "f866dbb3",
   "metadata": {},
   "outputs": [
    {
     "name": "stdout",
     "output_type": "stream",
     "text": [
      "forest\n",
      "forest\n",
      "forest\n",
      "forest\n",
      "forest\n"
     ]
    }
   ],
   "source": [
    "for forest in range(5):\n",
    "    print('forest')"
   ]
  },
  {
   "cell_type": "markdown",
   "id": "e2efc344",
   "metadata": {},
   "source": [
    "**Task No. 4 - Write the code to print out this multiplication table:**\n",
    "\n",
    "Code Review: ✅\n",
    "\n",
    "1*9 = 9\n",
    "\n",
    "2*9 = 18\n",
    "\n",
    "...\n",
    "\n",
    "9*9 = 81\n",
    "\n"
   ]
  },
  {
   "cell_type": "code",
   "execution_count": 2,
   "id": "bfa1e636",
   "metadata": {},
   "outputs": [
    {
     "name": "stdout",
     "output_type": "stream",
     "text": [
      "1 * 9 = 9\n",
      "2 * 9 = 18\n",
      "3 * 9 = 27\n",
      "4 * 9 = 36\n",
      "5 * 9 = 45\n",
      "6 * 9 = 54\n",
      "7 * 9 = 63\n",
      "8 * 9 = 72\n",
      "9 * 9 = 81\n"
     ]
    }
   ],
   "source": [
    "for multiplication in range(1,10):\n",
    "    print(multiplication, '* 9 =', multiplication*9)"
   ]
  },
  {
   "cell_type": "markdown",
   "id": "ef2c01a2",
   "metadata": {},
   "source": [
    "**Task No.5 - Write the code to print out all multiplication tables from 1 to 9**\n",
    "\n",
    "Code Review: ✅\n",
    "\n",
    "Feedback: Very nice use of formatting. https://docs.python.org/3/tutorial/inputoutput.html You could even do `print(f'{multiplications} * {compute} = {compute*multiplications}')`\n"
   ]
  },
  {
   "cell_type": "code",
   "execution_count": 3,
   "id": "9076d109",
   "metadata": {},
   "outputs": [
    {
     "name": "stdout",
     "output_type": "stream",
     "text": [
      "Multiplication table for 1\n",
      "1 * 1 = 1\n",
      "1 * 2 = 2\n",
      "1 * 3 = 3\n",
      "1 * 4 = 4\n",
      "1 * 5 = 5\n",
      "1 * 6 = 6\n",
      "1 * 7 = 7\n",
      "1 * 8 = 8\n",
      "1 * 9 = 9\n",
      "Multiplication table for 2\n",
      "2 * 1 = 2\n",
      "2 * 2 = 4\n",
      "2 * 3 = 6\n",
      "2 * 4 = 8\n",
      "2 * 5 = 10\n",
      "2 * 6 = 12\n",
      "2 * 7 = 14\n",
      "2 * 8 = 16\n",
      "2 * 9 = 18\n",
      "Multiplication table for 3\n",
      "3 * 1 = 3\n",
      "3 * 2 = 6\n",
      "3 * 3 = 9\n",
      "3 * 4 = 12\n",
      "3 * 5 = 15\n",
      "3 * 6 = 18\n",
      "3 * 7 = 21\n",
      "3 * 8 = 24\n",
      "3 * 9 = 27\n",
      "Multiplication table for 4\n",
      "4 * 1 = 4\n",
      "4 * 2 = 8\n",
      "4 * 3 = 12\n",
      "4 * 4 = 16\n",
      "4 * 5 = 20\n",
      "4 * 6 = 24\n",
      "4 * 7 = 28\n",
      "4 * 8 = 32\n",
      "4 * 9 = 36\n",
      "Multiplication table for 5\n",
      "5 * 1 = 5\n",
      "5 * 2 = 10\n",
      "5 * 3 = 15\n",
      "5 * 4 = 20\n",
      "5 * 5 = 25\n",
      "5 * 6 = 30\n",
      "5 * 7 = 35\n",
      "5 * 8 = 40\n",
      "5 * 9 = 45\n",
      "Multiplication table for 6\n",
      "6 * 1 = 6\n",
      "6 * 2 = 12\n",
      "6 * 3 = 18\n",
      "6 * 4 = 24\n",
      "6 * 5 = 30\n",
      "6 * 6 = 36\n",
      "6 * 7 = 42\n",
      "6 * 8 = 48\n",
      "6 * 9 = 54\n",
      "Multiplication table for 7\n",
      "7 * 1 = 7\n",
      "7 * 2 = 14\n",
      "7 * 3 = 21\n",
      "7 * 4 = 28\n",
      "7 * 5 = 35\n",
      "7 * 6 = 42\n",
      "7 * 7 = 49\n",
      "7 * 8 = 56\n",
      "7 * 9 = 63\n",
      "Multiplication table for 8\n",
      "8 * 1 = 8\n",
      "8 * 2 = 16\n",
      "8 * 3 = 24\n",
      "8 * 4 = 32\n",
      "8 * 5 = 40\n",
      "8 * 6 = 48\n",
      "8 * 7 = 56\n",
      "8 * 8 = 64\n",
      "8 * 9 = 72\n",
      "Multiplication table for 9\n",
      "9 * 1 = 9\n",
      "9 * 2 = 18\n",
      "9 * 3 = 27\n",
      "9 * 4 = 36\n",
      "9 * 5 = 45\n",
      "9 * 6 = 54\n",
      "9 * 7 = 63\n",
      "9 * 8 = 72\n",
      "9 * 9 = 81\n"
     ]
    }
   ],
   "source": [
    "for multiplications in range(1,10):\n",
    "    print(f'Multiplication table for {multiplications}')\n",
    "    #using f string literal\n",
    "    for compute in range(1,10):\n",
    "        print(f'{multiplications} * {compute} =', compute*multiplications)\n",
    "        #using nested sub for loop"
   ]
  },
  {
   "cell_type": "markdown",
   "id": "ac1fea4b",
   "metadata": {},
   "source": [
    "**Task No.6 - Write the code to calculate the result of 1 x 2 x 3 x ... x 9 x 10.**\n",
    "\n",
    "Code Review: ❗\n",
    "\n",
    "Feedback: We haven't covered functions yet. Your data structure is a list, not a tree. Try rewriting the exercise without a function. https://docs.python.org/3/library/math.html#math.prod 😀 redo this using a for loop instead of a `del` function\n",
    "\n"
   ]
  },
  {
   "cell_type": "code",
   "execution_count": 11,
   "id": "227fe730",
   "metadata": {},
   "outputs": [
    {
     "name": "stdout",
     "output_type": "stream",
     "text": [
      "3628800\n"
     ]
    }
   ],
   "source": [
    "#Initial solution\n",
    "#using Traversal https://www.tutorialspoint.com/python_data_structure/python_tree_traversal_algorithms.htm\n",
    "\n",
    "def multiplyList(compute_list):\n",
    "    result = 1\n",
    "    for numbers in compute_list:\n",
    "        result = result * numbers\n",
    "    return result\n",
    "\n",
    "my_list = [1,2,3,4,5,6,7,8,9,10]\n",
    "print(multiplyList(my_list))"
   ]
  },
  {
   "cell_type": "code",
   "execution_count": 15,
   "id": "18494cba",
   "metadata": {},
   "outputs": [
    {
     "data": {
      "text/plain": [
       "3628800"
      ]
     },
     "execution_count": 15,
     "metadata": {},
     "output_type": "execute_result"
    }
   ],
   "source": [
    "#New solution based on feedback\n",
    "math.prod(range(1,11))"
   ]
  },
  {
   "cell_type": "code",
   "execution_count": 32,
   "id": "71e665c2",
   "metadata": {},
   "outputs": [
    {
     "name": "stdout",
     "output_type": "stream",
     "text": [
      "3628800\n"
     ]
    }
   ],
   "source": [
    "#New solution based on feedback\n",
    "multiply = 1\n",
    "for num in range(1,11):\n",
    "    multiply = multiply * num\n",
    "print(multiply)"
   ]
  },
  {
   "cell_type": "markdown",
   "id": "467eb0f6",
   "metadata": {},
   "source": [
    "**Task No.7 - Write the code to calculate the result of 1 + 2 + 3 + ... + 9 + 10.**\n",
    "\n",
    "Code Review: ❗\n",
    "\n",
    "Feedback: Try one solution using `sum()` and `range()` functions. Avoid using `*` to unpack `range()` because it's overkill and harder to read. The for loop in the initial solution is computing a tally calculation, which is not necessary, because we only care about the very last value. Also, you could've inserted range directly in the for loop after `in`, instead of creating a list first. Even the `sum_list` list is not necessary, it can be just `sum_list = range(1,11)`"
   ]
  },
  {
   "cell_type": "code",
   "execution_count": 166,
   "id": "f4faf1a2",
   "metadata": {},
   "outputs": [
    {
     "name": "stdout",
     "output_type": "stream",
     "text": [
      "55\n"
     ]
    }
   ],
   "source": [
    "#Initial solution\n",
    "sum_list = [*range(1,11)]\n",
    "compute_sum = 0\n",
    "\n",
    "for num in sum_list:\n",
    "    compute_sum = compute_sum + num\n",
    "print(compute_sum)"
   ]
  },
  {
   "cell_type": "code",
   "execution_count": 33,
   "id": "b0863580",
   "metadata": {},
   "outputs": [
    {
     "data": {
      "text/plain": [
       "55"
      ]
     },
     "execution_count": 33,
     "metadata": {},
     "output_type": "execute_result"
    }
   ],
   "source": [
    "#New solution based on feedback\n",
    "sum(range(1,11))"
   ]
  },
  {
   "cell_type": "markdown",
   "id": "7e53f1ef",
   "metadata": {},
   "source": [
    "**Task No.8 - Write the code to calculate the total length of this list of strings [\"python\", \"is\", \"fun\"]. Total length is defined by the sum of the length of each string in the list. It should return 11.**\n",
    "\n",
    "Code Review: ❗\n",
    "\n",
    "Feedback: redo using the list instead of string, don't break the bracket `[]`\n"
   ]
  },
  {
   "cell_type": "code",
   "execution_count": 55,
   "id": "26bc0cd7",
   "metadata": {},
   "outputs": [
    {
     "data": {
      "text/plain": [
       "11"
      ]
     },
     "execution_count": 55,
     "metadata": {},
     "output_type": "execute_result"
    }
   ],
   "source": [
    "#Initial solution\n",
    "strings = \"python\"+\"is\"+\"fun\"\n",
    "len(strings)"
   ]
  },
  {
   "cell_type": "code",
   "execution_count": 56,
   "id": "cccec1b1",
   "metadata": {},
   "outputs": [
    {
     "name": "stdout",
     "output_type": "stream",
     "text": [
      "11\n"
     ]
    }
   ],
   "source": [
    "#New solution based on feedback\n",
    "word_list = [\"python\", \"is\", \"fun\"]\n",
    "char_count = 0\n",
    "for word in word_list:\n",
    "    char_count = char_count + len(word)\n",
    "print(char_count)"
   ]
  },
  {
   "cell_type": "markdown",
   "id": "3681f3b2",
   "metadata": {},
   "source": [
    "**Task No.9 - Given the list of strings ['fairy', 'kitchen', 'reach', 'cower', 'drama', 'negligence', 'rank', 'mess', 'injection', 'brink'], write the code to print out only the words that contain the letter a.**\n",
    "\n",
    "Code Review: ❗\n",
    "\n",
    "Feedback: redo because the solution did NOT work\n"
   ]
  },
  {
   "cell_type": "code",
   "execution_count": 60,
   "id": "9ab2e69a",
   "metadata": {},
   "outputs": [
    {
     "name": "stdout",
     "output_type": "stream",
     "text": [
      "fairy\n",
      "kitchen\n",
      "reach\n",
      "cower\n",
      "drama\n",
      "negligence\n",
      "rank\n",
      "mess\n",
      "injection\n",
      "brink\n"
     ]
    }
   ],
   "source": [
    "#Initial solution\n",
    "words_list = ['fairy', 'kitchen', 'reach', 'cower', 'drama', 'negligence', 'rank', 'mess', 'injection', 'brink']\n",
    "\n",
    "for search_words in words_list:\n",
    "    if search_words.find('a'):\n",
    "    #using python find() function\n",
    "        print(search_words)"
   ]
  },
  {
   "cell_type": "code",
   "execution_count": 81,
   "id": "0171cfe0",
   "metadata": {},
   "outputs": [
    {
     "name": "stdout",
     "output_type": "stream",
     "text": [
      "fairy\n",
      "reach\n",
      "drama\n",
      "drama\n",
      "rank\n"
     ]
    }
   ],
   "source": [
    "#New solution based on feedback\n",
    "words_list = ['fairy', 'kitchen', 'reach', 'cower', 'drama', 'negligence', 'rank', 'mess', 'injection', 'brink']\n",
    "for words in words_list:\n",
    "    for letters in words:\n",
    "        if letters == 'a':\n",
    "            print(words)"
   ]
  },
  {
   "cell_type": "code",
   "execution_count": 84,
   "id": "29258ed6",
   "metadata": {},
   "outputs": [
    {
     "name": "stdout",
     "output_type": "stream",
     "text": [
      "fairy\n",
      "reach\n",
      "drama\n",
      "rank\n"
     ]
    }
   ],
   "source": [
    "#New solution based on feedback\n",
    "for words in words_list:\n",
    "    if words.__contains__('a'):\n",
    "    #using user-defined classes membership test operator\n",
    "    #https://docs.python.org/3/reference/expressions.html#membership-test-operations\n",
    "        print(words)"
   ]
  },
  {
   "cell_type": "markdown",
   "id": "cf57d11d",
   "metadata": {},
   "source": [
    "**Task No.10 - Write the code to make the following program:**\n",
    "- The program asks the user to type a number from 1 to 10. Once the user types a number, print out \"It is veeeeeery cold\". \n",
    "- The number of 'e' is defined by the number the user chose. If they chose 5, it prints out \"It is veeeeery cold\".\n",
    "\n",
    "Code Review: ❗\n",
    "\n",
    "Feedback: redo using input() function listed [here in line 1](https://github.com/JosieZhao15/python_learning_space/blob/main/course_4__loops.ipynb), and remove the space around “e” in the word “very”, remove unnecessary lines in the loop, use simple for loop logics. This for loop in the initial solution is doing nothing differen than `e=5 e=e+1`. Find a more effecient way for the for loop"
   ]
  },
  {
   "cell_type": "code",
   "execution_count": 85,
   "id": "8c47cf62",
   "metadata": {},
   "outputs": [
    {
     "name": "stdout",
     "output_type": "stream",
     "text": [
      "It is v eeeee ry cold!\n"
     ]
    }
   ],
   "source": [
    "#Initial solution\n",
    "e_count = [*range(5)]\n",
    "\n",
    "for e in e_count:\n",
    "    e = e + 1\n",
    "print('It is v','e'*e, 'ry cold!')"
   ]
  },
  {
   "cell_type": "code",
   "execution_count": null,
   "id": "65f08a06",
   "metadata": {},
   "outputs": [],
   "source": [
    "#New solution based on feedback\n",
    "e_count = int(input('Please input an integer:'))*'e'\n",
    "print(f'It is v{e_count}ry cold')"
   ]
  },
  {
   "cell_type": "markdown",
   "id": "b3248458",
   "metadata": {},
   "source": [
    "**Task No. 11 - Write a program that asks the user to type a word (\"Please type a word\"), then print out something like this (assuming they typed \"dinosaur\"):**\n",
    "\n",
    "d\n",
    "\n",
    "di\n",
    "\n",
    "din\n",
    "\n",
    "dino\n",
    "\n",
    "...\n",
    "\n",
    "dinosaur\n",
    "\n",
    "Code Review: ❗\n",
    "\n",
    "Feedback: redo using input() function listed [here in line 1](https://github.com/JosieZhao15/python_learning_space/blob/main/course_4__loops.ipynb), and use string slice functions, reference details in the [review doc](https://docs.google.com/document/d/18euHpg-sGMxIUj3bmq4Ddp2A3fV938W9nahvSdkfLug/edit#)"
   ]
  },
  {
   "cell_type": "code",
   "execution_count": 2,
   "id": "ed9c69f3",
   "metadata": {},
   "outputs": [
    {
     "name": "stdout",
     "output_type": "stream",
     "text": [
      "d\n",
      "di\n",
      "din\n",
      "dino\n",
      "dinos\n",
      "dinosa\n",
      "dinosau\n",
      "dinosaur\n"
     ]
    }
   ],
   "source": [
    "#Initial solution\n",
    "type_string = 'dinosaur'\n",
    "word = ''\n",
    "\n",
    "for string in type_string:\n",
    "    word = word + string\n",
    "    print(word)"
   ]
  },
  {
   "cell_type": "code",
   "execution_count": 1,
   "id": "21a657f1",
   "metadata": {},
   "outputs": [
    {
     "name": "stdout",
     "output_type": "stream",
     "text": [
      "Please type a word:Aphanumeric\n",
      "A\n",
      "Ap\n",
      "Aph\n",
      "Apha\n",
      "Aphan\n",
      "Aphanu\n",
      "Aphanum\n",
      "Aphanume\n",
      "Aphanumer\n",
      "Aphanumeri\n",
      "Aphanumeric\n"
     ]
    }
   ],
   "source": [
    "#New solution based on feedback\n",
    "input_word = input(\"Please type a word:\")\n",
    "for word in range(len(input_word)):\n",
    "    print(input_word[:word+1])"
   ]
  },
  {
   "cell_type": "code",
   "execution_count": null,
   "id": "f25a270a",
   "metadata": {},
   "outputs": [],
   "source": []
  }
 ],
 "metadata": {
  "kernelspec": {
   "display_name": "Python 3 (ipykernel)",
   "language": "python",
   "name": "python3"
  },
  "language_info": {
   "codemirror_mode": {
    "name": "ipython",
    "version": 3
   },
   "file_extension": ".py",
   "mimetype": "text/x-python",
   "name": "python",
   "nbconvert_exporter": "python",
   "pygments_lexer": "ipython3",
   "version": "3.9.13"
  }
 },
 "nbformat": 4,
 "nbformat_minor": 5
}
