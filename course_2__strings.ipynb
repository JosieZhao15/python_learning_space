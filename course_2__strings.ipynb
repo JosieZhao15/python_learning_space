{
 "cells": [
  {
   "cell_type": "markdown",
   "id": "3c402139",
   "metadata": {},
   "source": [
    "Strings learning resource: https://docs.python.org/3/tutorial/introduction.html#strings\n",
    "\n",
    "The following learnings are using section 3.1.2."
   ]
  },
  {
   "cell_type": "markdown",
   "id": "750a1d39",
   "metadata": {},
   "source": [
    "Besides numbers, Python can also manipulate strings, which can be expressed in several ways. They can be enclosed in single quotes ('...') or double quotes (\"...\") with the same result 2. \\ can be used to escape quotes:"
   ]
  },
  {
   "cell_type": "code",
   "execution_count": 1,
   "id": "f362d9cc",
   "metadata": {},
   "outputs": [
    {
     "data": {
      "text/plain": [
       "'span eggs'"
      ]
     },
     "execution_count": 1,
     "metadata": {},
     "output_type": "execute_result"
    }
   ],
   "source": [
    "'span eggs' #single quotes"
   ]
  },
  {
   "cell_type": "code",
   "execution_count": 2,
   "id": "51cb2be8",
   "metadata": {},
   "outputs": [
    {
     "data": {
      "text/plain": [
       "\"doesn't\""
      ]
     },
     "execution_count": 2,
     "metadata": {},
     "output_type": "execute_result"
    }
   ],
   "source": [
    "'doesn\\'t' #use \\ to escape the single quote"
   ]
  },
  {
   "cell_type": "code",
   "execution_count": 3,
   "id": "35a4381d",
   "metadata": {},
   "outputs": [
    {
     "data": {
      "text/plain": [
       "\"doesn't\""
      ]
     },
     "execution_count": 3,
     "metadata": {},
     "output_type": "execute_result"
    }
   ],
   "source": [
    "\"doesn't\" #or use double quotes instead"
   ]
  },
  {
   "cell_type": "code",
   "execution_count": 4,
   "id": "ce8df447",
   "metadata": {},
   "outputs": [
    {
     "data": {
      "text/plain": [
       "'\"Yes,\" they said.'"
      ]
     },
     "execution_count": 4,
     "metadata": {},
     "output_type": "execute_result"
    }
   ],
   "source": [
    "'\"Yes,\" they said.'"
   ]
  },
  {
   "cell_type": "code",
   "execution_count": 5,
   "id": "f1ad6db0",
   "metadata": {},
   "outputs": [
    {
     "data": {
      "text/plain": [
       "\"'Yes,' they said.\""
      ]
     },
     "execution_count": 5,
     "metadata": {},
     "output_type": "execute_result"
    }
   ],
   "source": [
    "'\\'Yes,\\' they said.'"
   ]
  },
  {
   "cell_type": "code",
   "execution_count": 6,
   "id": "abafd312",
   "metadata": {},
   "outputs": [
    {
     "data": {
      "text/plain": [
       "\"'Isn't,' they said.\""
      ]
     },
     "execution_count": 6,
     "metadata": {},
     "output_type": "execute_result"
    }
   ],
   "source": [
    "'\\'Isn\\'t,\\' they said.'"
   ]
  },
  {
   "cell_type": "markdown",
   "id": "5f81e71f",
   "metadata": {},
   "source": [
    "In the interactive interpreter, the output string is enclosed in quotes and special characters are escaped with backslashes. While this might sometimes look different from the input (the enclosing quotes could change), the two strings are equivalent. The string is enclosed in double quotes if the string contains a single quote and no double quotes, otherwise it is enclosed in single quotes. The print() function produces a more readable output, by omitting the enclosing quotes and by printing escaped and special characters:"
   ]
  },
  {
   "cell_type": "code",
   "execution_count": null,
   "id": "b66ffb59",
   "metadata": {},
   "outputs": [],
   "source": []
  }
 ],
 "metadata": {
  "kernelspec": {
   "display_name": "Python 3 (ipykernel)",
   "language": "python",
   "name": "python3"
  },
  "language_info": {
   "codemirror_mode": {
    "name": "ipython",
    "version": 3
   },
   "file_extension": ".py",
   "mimetype": "text/x-python",
   "name": "python",
   "nbconvert_exporter": "python",
   "pygments_lexer": "ipython3",
   "version": "3.9.13"
  }
 },
 "nbformat": 4,
 "nbformat_minor": 5
}
