{
 "cells": [
  {
   "cell_type": "markdown",
   "id": "a360952f",
   "metadata": {},
   "source": [
    "Learning resources: https://requests.readthedocs.io/en/latest/user/quickstart/\n",
    "\n",
    "This course is focused on reading data from the internet using `requests.get()`\n",
    "\n",
    "This chapter is based on the tutorial linked above, from which Anh Tuan extracted only the most important parts."
   ]
  },
  {
   "cell_type": "markdown",
   "id": "f1b5deef",
   "metadata": {},
   "source": [
    "Type in this code:"
   ]
  },
  {
   "cell_type": "code",
   "execution_count": 6,
   "id": "74d83a33",
   "metadata": {},
   "outputs": [],
   "source": [
    "import requests\n",
    "r = requests.get('https://api.github.com/users/JosieZhao15')"
   ]
  },
  {
   "cell_type": "markdown",
   "id": "e2214517",
   "metadata": {},
   "source": [
    "Then execute this code:"
   ]
  },
  {
   "cell_type": "code",
   "execution_count": 7,
   "id": "7bff9b37",
   "metadata": {},
   "outputs": [
    {
     "name": "stdout",
     "output_type": "stream",
     "text": [
      "<Response [200]>\n"
     ]
    }
   ],
   "source": [
    "print(r)"
   ]
  },
  {
   "cell_type": "markdown",
   "id": "f7238879",
   "metadata": {},
   "source": [
    "This should print out \"<Response [200]>\". This means that the requests.get function made a request to https://api.github.com/users/JosieZhao15and that the result was code 200, which means OK. You might be familiar with other http error codes such as 404 (not found) or 403 (forbidden).\n",
    "\n",
    "Then execute this code:"
   ]
  },
  {
   "cell_type": "code",
   "execution_count": 8,
   "id": "acfecb35",
   "metadata": {},
   "outputs": [
    {
     "name": "stdout",
     "output_type": "stream",
     "text": [
      "{\"login\":\"JosieZhao15\",\"id\":85372312,\"node_id\":\"MDQ6VXNlcjg1MzcyMzEy\",\"avatar_url\":\"https://avatars.githubusercontent.com/u/85372312?v=4\",\"gravatar_id\":\"\",\"url\":\"https://api.github.com/users/JosieZhao15\",\"html_url\":\"https://github.com/JosieZhao15\",\"followers_url\":\"https://api.github.com/users/JosieZhao15/followers\",\"following_url\":\"https://api.github.com/users/JosieZhao15/following{/other_user}\",\"gists_url\":\"https://api.github.com/users/JosieZhao15/gists{/gist_id}\",\"starred_url\":\"https://api.github.com/users/JosieZhao15/starred{/owner}{/repo}\",\"subscriptions_url\":\"https://api.github.com/users/JosieZhao15/subscriptions\",\"organizations_url\":\"https://api.github.com/users/JosieZhao15/orgs\",\"repos_url\":\"https://api.github.com/users/JosieZhao15/repos\",\"events_url\":\"https://api.github.com/users/JosieZhao15/events{/privacy}\",\"received_events_url\":\"https://api.github.com/users/JosieZhao15/received_events\",\"type\":\"User\",\"site_admin\":false,\"name\":\"Josie\",\"company\":null,\"blog\":\"\",\"location\":\"San Francisco\",\"email\":null,\"hireable\":null,\"bio\":\"Analytics Engineer\",\"twitter_username\":null,\"public_repos\":1,\"public_gists\":0,\"followers\":0,\"following\":4,\"created_at\":\"2021-06-04T21:24:52Z\",\"updated_at\":\"2023-01-16T23:41:14Z\"}\n",
      "1224\n",
      "<class 'str'>\n"
     ]
    }
   ],
   "source": [
    "print(r.text)\n",
    "print(len(r.text))\n",
    "print(type(r.text))"
   ]
  },
  {
   "cell_type": "markdown",
   "id": "d52375e9",
   "metadata": {},
   "source": [
    "This prints out a long text, followed by its length, around 1224. And the type is \"str\", it is a string.\n",
    "\n",
    "Then execute this code:"
   ]
  },
  {
   "cell_type": "code",
   "execution_count": 9,
   "id": "bd38b573",
   "metadata": {},
   "outputs": [
    {
     "name": "stdout",
     "output_type": "stream",
     "text": [
      "{'login': 'JosieZhao15', 'id': 85372312, 'node_id': 'MDQ6VXNlcjg1MzcyMzEy', 'avatar_url': 'https://avatars.githubusercontent.com/u/85372312?v=4', 'gravatar_id': '', 'url': 'https://api.github.com/users/JosieZhao15', 'html_url': 'https://github.com/JosieZhao15', 'followers_url': 'https://api.github.com/users/JosieZhao15/followers', 'following_url': 'https://api.github.com/users/JosieZhao15/following{/other_user}', 'gists_url': 'https://api.github.com/users/JosieZhao15/gists{/gist_id}', 'starred_url': 'https://api.github.com/users/JosieZhao15/starred{/owner}{/repo}', 'subscriptions_url': 'https://api.github.com/users/JosieZhao15/subscriptions', 'organizations_url': 'https://api.github.com/users/JosieZhao15/orgs', 'repos_url': 'https://api.github.com/users/JosieZhao15/repos', 'events_url': 'https://api.github.com/users/JosieZhao15/events{/privacy}', 'received_events_url': 'https://api.github.com/users/JosieZhao15/received_events', 'type': 'User', 'site_admin': False, 'name': 'Josie', 'company': None, 'blog': '', 'location': 'San Francisco', 'email': None, 'hireable': None, 'bio': 'Analytics Engineer', 'twitter_username': None, 'public_repos': 1, 'public_gists': 0, 'followers': 0, 'following': 4, 'created_at': '2021-06-04T21:24:52Z', 'updated_at': '2023-01-16T23:41:14Z'}\n",
      "32\n",
      "<class 'dict'>\n"
     ]
    }
   ],
   "source": [
    "print(r.json())\n",
    "print(len(r.json()))\n",
    "print(type(r.json()))"
   ]
  },
  {
   "cell_type": "markdown",
   "id": "594f6dae",
   "metadata": {},
   "source": [
    "r.json() automatically converts the text response into a json object. a json object is made up by any combination of dictionaries, lists, strings, numbers. In this case, it is a dict."
   ]
  }
 ],
 "metadata": {
  "kernelspec": {
   "display_name": "Python 3 (ipykernel)",
   "language": "python",
   "name": "python3"
  },
  "language_info": {
   "codemirror_mode": {
    "name": "ipython",
    "version": 3
   },
   "file_extension": ".py",
   "mimetype": "text/x-python",
   "name": "python",
   "nbconvert_exporter": "python",
   "pygments_lexer": "ipython3",
   "version": "3.9.13"
  }
 },
 "nbformat": 4,
 "nbformat_minor": 5
}
