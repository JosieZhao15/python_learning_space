{
 "cells": [
  {
   "cell_type": "markdown",
   "id": "d6617530",
   "metadata": {},
   "source": [
    "**Tasl No.1**\n",
    "\n",
    "Make a program that:\n",
    "Reads the JSON from https://api.github.com/users/JosieZhao15.\n",
    "Displays basic information about the user \"Josie: Analytics Engineer in San Francisco with 4 followers\"."
   ]
  },
  {
   "cell_type": "code",
   "execution_count": 23,
   "id": "934abc47",
   "metadata": {},
   "outputs": [
    {
     "name": "stdout",
     "output_type": "stream",
     "text": [
      "Josie: Analytics Engineer in San Francisco with 4 followers\n"
     ]
    }
   ],
   "source": [
    "import requests\n",
    "import json\n",
    "\n",
    "data_pull = requests.get('https://api.github.com/users/JosieZhao15').json()\n",
    "\n",
    "print(f'{data_pull[\"name\"]}: {data_pull[\"bio\"]} in San Francisco with {data_pull[\"following\"]} followers')"
   ]
  },
  {
   "cell_type": "markdown",
   "id": "bfa7c270",
   "metadata": {},
   "source": [
    "**Task No.2**\n",
    "\n",
    "Make a program that:\n",
    "- Reads the JSON from https://api.github.com/repos/JosieZhao15/python_learning_space/commits.\n",
    "- Computes an array of dict. Each dict should have this structure:\n",
    "{\"date\": [commit date], \"author\": [the author's name], \"message\": [the message]}\n",
    "- Basically something like this: [ {\"date\": \"2023-01-19T05:17:15Z\", \"author\": \"Josie\", \"message\": \"renamed file\"}, {\"date\": \"2023-01-19T05:16:33Z\", \"author\": \"Josie\", \"message\": \"coding challenge feedback file\"}, ...]"
   ]
  },
  {
   "cell_type": "code",
   "execution_count": 2,
   "id": "b55feaa7",
   "metadata": {},
   "outputs": [
    {
     "name": "stdout",
     "output_type": "stream",
     "text": [
      "{'date': '2023-02-04T05:31:28Z', 'name': 'Josie', 'message': 'course 11 task 3 wip'}\n",
      "{'date': '2023-02-04T01:41:06Z', 'name': 'Josie', 'message': 'course 11 wip'}\n",
      "{'date': '2023-01-31T04:21:11Z', 'name': 'Josie', 'message': 'Merge pull request #4 from atn832/main'}\n",
      "{'date': '2023-01-31T03:52:24Z', 'name': 'Anh Tuan Nguyen', 'message': 'reviewed course 9'}\n",
      "{'date': '2023-01-31T01:48:30Z', 'name': 'Josie', 'message': 'course 11 coding tasks wip'}\n",
      "{'date': '2023-01-30T23:55:10Z', 'name': 'Josie', 'message': 'course 9 completed, starting on course 10'}\n",
      "{'date': '2023-01-30T23:21:37Z', 'name': 'Josie', 'message': 'course 9 coding task wip'}\n",
      "{'date': '2023-01-24T05:48:34Z', 'name': 'Josie', 'message': 'Merge pull request #3 from atn832/main\\n\\nfinal remarks for course 6, 7, 8'}\n",
      "{'date': '2023-01-23T05:04:57Z', 'name': 'Anh Tuan Nguyen', 'message': 'final remarks'}\n",
      "{'date': '2023-01-23T03:37:30Z', 'name': 'Josie', 'message': \"fixed the coding tasks' solutions based on feedback\"}\n",
      "{'date': '2023-01-23T02:42:45Z', 'name': 'Josie', 'message': \"Merge branch 'main' of https://github.com/JosieZhao15/python_learning_space\"}\n",
      "{'date': '2023-01-23T02:42:29Z', 'name': 'Josie', 'message': 'course 9 wip'}\n",
      "{'date': '2023-01-23T02:37:56Z', 'name': 'Josie', 'message': 'Merge pull request #2 from atn832/main\\n\\nreviewed coding challenges and course 6 notes'}\n",
      "{'date': '2023-01-23T01:57:19Z', 'name': 'Anh Tuan Nguyen', 'message': 'reviewed coding challenges and course 6 notes'}\n",
      "{'date': '2023-01-22T23:30:14Z', 'name': 'Josie', 'message': 'coding task 8 completed'}\n",
      "{'date': '2023-01-22T23:20:40Z', 'name': 'Josie', 'message': 'updated file structures'}\n",
      "{'date': '2023-01-22T23:16:37Z', 'name': 'Josie', 'message': 'course 8'}\n",
      "{'date': '2023-01-22T22:57:43Z', 'name': 'Josie', 'message': 'coding tasks completed for course 7'}\n",
      "{'date': '2023-01-22T22:17:10Z', 'name': 'Josie', 'message': 'file updates'}\n",
      "{'date': '2023-01-22T20:37:26Z', 'name': 'Josie', 'message': 'source 7'}\n",
      "{'date': '2023-01-21T21:55:29Z', 'name': 'Josie', 'message': \"Merge branch 'main' of https://github.com/JosieZhao15/python_learning_space\"}\n",
      "{'date': '2023-01-21T21:55:26Z', 'name': 'Josie', 'message': 'course 6 on list comprehension'}\n",
      "{'date': '2023-01-20T16:11:49Z', 'name': 'Josie', 'message': 'Merge pull request #1 from atn832/main'}\n",
      "{'date': '2023-01-20T05:53:00Z', 'name': 'Anh Tuan Nguyen', 'message': 'left 🐝 comments'}\n",
      "{'date': '2023-01-20T03:13:15Z', 'name': 'Josie', 'message': 'finished re-doing the coding tasks for course 1 to 4'}\n",
      "{'date': '2023-01-19T05:17:15Z', 'name': 'Josie', 'message': 'renamed file'}\n",
      "{'date': '2023-01-19T05:16:33Z', 'name': 'Josie', 'message': 'coding challenge feedback file'}\n",
      "{'date': '2023-01-19T00:50:00Z', 'name': 'Josie', 'message': 'task 11'}\n",
      "{'date': '2023-01-19T00:49:26Z', 'name': 'Josie', 'message': 'completed task 11'}\n",
      "{'date': '2023-01-19T00:42:43Z', 'name': 'Josie', 'message': 'task 11 wip'}\n"
     ]
    }
   ],
   "source": [
    "import requests\n",
    "import json\n",
    "\n",
    "data_pull = requests.get('https://api.github.com/repos/JosieZhao15/python_learning_space/commits').json()\n",
    "\n",
    "for x in list(data_pull):\n",
    "    author = x['commit']['author']\n",
    "    del author['email']\n",
    "    sort = dict(sorted(author.items(), key=lambda x: x[0]))\n",
    "    sort['message'] = x['commit']['message']\n",
    "    print(sort)"
   ]
  },
  {
   "cell_type": "markdown",
   "id": "073f2fc1",
   "metadata": {},
   "source": [
    "**Task No.3**\n",
    "\n",
    "Make a program that:\n",
    "- Reads the JSON from https://data.covid19india.org/state_district_wise.json.\n",
    "- Computes the total number of confirmed cases and recovered cases by state into an array of dict.\n",
    "[{ \"state\": \"Andaman and Nicobar Islands\", \"confirmedCases\": 7548, \"recoveredCases\": ....}, { \"state\": \"Andhra Pradesh\", \"confirmedCases\": ...}...]\n",
    "- Using the dict from bullet point #2, print out the name and confirmed cases of top 5 states with the most number of confirmed cases in decreasing order.\n",
    "- Using the dict from bullet point #2, print out the recovery rate of each state. The recovery rate is computed by the following: total recovered / total confirmed. It should be displayed with 2 decimals. For example it should show something like this: Andaman and Nicobar Islands: 68.74%.\n",
    "- Now print out the 5 states in which the recovery is the smallest."
   ]
  },
  {
   "cell_type": "code",
   "execution_count": 67,
   "id": "9760a489",
   "metadata": {},
   "outputs": [
    {
     "name": "stdout",
     "output_type": "stream",
     "text": [
      "{'state': 'State Unassigned', 'confirmedCases': 0, 'recoveredCases': 0}\n",
      "{'state': 'Andaman and Nicobar Islands', 'confirmedCases': 7548, 'recoveredCases': 7413}\n",
      "{'state': 'Andhra Pradesh', 'confirmedCases': 1994599, 'recoveredCases': 1962465}\n",
      "{'state': 'Arunachal Pradesh', 'confirmedCases': 2045392, 'recoveredCases': 2010519}\n",
      "{'state': 'Assam', 'confirmedCases': 2622427, 'recoveredCases': 2571301}\n",
      "{'state': 'Bihar', 'confirmedCases': 3347753, 'recoveredCases': 3286704}\n",
      "{'state': 'Chandigarh', 'confirmedCases': 3409750, 'recoveredCases': 3347855}\n",
      "{'state': 'Chhattisgarh', 'confirmedCases': 4413189, 'recoveredCases': 4336192}\n",
      "{'state': 'Delhi', 'confirmedCases': 5850078, 'recoveredCases': 5747519}\n",
      "{'state': 'Dadra and Nagar Haveli and Daman and Diu', 'confirmedCases': 5860735, 'recoveredCases': 5758134}\n",
      "{'state': 'Goa', 'confirmedCases': 6032923, 'recoveredCases': 5926175}\n",
      "{'state': 'Gujarat', 'confirmedCases': 6858024, 'recoveredCases': 6741005}\n",
      "{'state': 'Himachal Pradesh', 'confirmedCases': 7067014, 'recoveredCases': 6943898}\n",
      "{'state': 'Haryana', 'confirmedCases': 7837144, 'recoveredCases': 7703705}\n",
      "{'state': 'Jharkhand', 'confirmedCases': 8184598, 'recoveredCases': 8045833}\n",
      "{'state': 'Jammu and Kashmir', 'confirmedCases': 8507483, 'recoveredCases': 8363028}\n",
      "{'state': 'Karnataka', 'confirmedCases': 11430358, 'recoveredCases': 11226145}\n",
      "{'state': 'Kerala', 'confirmedCases': 15040551, 'recoveredCases': 14641740}\n",
      "{'state': 'Ladakh', 'confirmedCases': 15060958, 'recoveredCases': 14661870}\n",
      "{'state': 'Lakshadweep', 'confirmedCases': 15071226, 'recoveredCases': 14672005}\n",
      "{'state': 'Maharashtra', 'confirmedCases': 21440228, 'recoveredCases': 20838625}\n",
      "{'state': 'Meghalaya', 'confirmedCases': 21510460, 'recoveredCases': 20903166}\n",
      "{'state': 'Manipur', 'confirmedCases': 21616490, 'recoveredCases': 21000665}\n",
      "{'state': 'Madhya Pradesh', 'confirmedCases': 22408480, 'recoveredCases': 21782009}\n",
      "{'state': 'Mizoram', 'confirmedCases': 22454800, 'recoveredCases': 21816743}\n",
      "{'state': 'Nagaland', 'confirmedCases': 22483675, 'recoveredCases': 21842844}\n",
      "{'state': 'Odisha', 'confirmedCases': 23473750, 'recoveredCases': 22816423}\n",
      "{'state': 'Punjab', 'confirmedCases': 24073428, 'recoveredCases': 23399259}\n",
      "{'state': 'Puducherry', 'confirmedCases': 24195308, 'recoveredCases': 23518472}\n",
      "{'state': 'Rajasthan', 'confirmedCases': 25149178, 'recoveredCases': 24463193}\n",
      "{'state': 'Sikkim', 'confirmedCases': 25177353, 'recoveredCases': 24488188}\n",
      "{'state': 'Telangana', 'confirmedCases': 25828188, 'recoveredCases': 25127053}\n",
      "{'state': 'Tamil Nadu', 'confirmedCases': 28409282, 'recoveredCases': 27653370}\n",
      "{'state': 'Tripura', 'confirmedCases': 28489939, 'recoveredCases': 27731118}\n",
      "{'state': 'Uttar Pradesh', 'confirmedCases': 30198775, 'recoveredCases': 29416673}\n",
      "{'state': 'Uttarakhand', 'confirmedCases': 30541277, 'recoveredCases': 29745331}\n",
      "{'state': 'West Bengal', 'confirmedCases': 32076976, 'recoveredCases': 31252609}\n"
     ]
    }
   ],
   "source": [
    "#bullet point 1\n",
    "\n",
    "import requests\n",
    "import json\n",
    "\n",
    "data_pull = requests.get('https://data.covid19india.org/state_district_wise.json').json()\n",
    "\n",
    "confirmedCases = 0\n",
    "recoveredCases = 0\n",
    "\n",
    "for state, state_stats in data_pull.items():\n",
    "    del state_stats['statecode']\n",
    "    #print(state)\n",
    "    for district, district_stats in state_stats.items():\n",
    "        #print(district_stats)\n",
    "        for covid_status, count in district_stats.items():\n",
    "            #print(dict(state=state, confirmedCases=count['confirmed'], recoveredCases=count['recovered']))\n",
    "            confirmedCases = confirmedCases + count['confirmed']\n",
    "            recoveredCases = recoveredCases + count['recovered']\n",
    "    print(dict(state=state,confirmedCases=confirmedCases, recoveredCases=recoveredCases))\n"
   ]
  },
  {
   "cell_type": "code",
   "execution_count": null,
   "id": "00a47c36",
   "metadata": {},
   "outputs": [],
   "source": []
  }
 ],
 "metadata": {
  "kernelspec": {
   "display_name": "Python 3 (ipykernel)",
   "language": "python",
   "name": "python3"
  },
  "language_info": {
   "codemirror_mode": {
    "name": "ipython",
    "version": 3
   },
   "file_extension": ".py",
   "mimetype": "text/x-python",
   "name": "python",
   "nbconvert_exporter": "python",
   "pygments_lexer": "ipython3",
   "version": "3.9.13"
  }
 },
 "nbformat": 4,
 "nbformat_minor": 5
}
