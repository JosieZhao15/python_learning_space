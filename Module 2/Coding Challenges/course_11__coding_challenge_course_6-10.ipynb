{
 "cells": [
  {
   "cell_type": "markdown",
   "id": "d6617530",
   "metadata": {},
   "source": [
    "**Tasl No.1**\n",
    "\n",
    "Make a program that:\n",
    "Reads the JSON from https://api.github.com/users/JosieZhao15.\n",
    "Displays basic information about the user \"Josie: Analytics Engineer in San Francisco with 4 followers\"."
   ]
  },
  {
   "cell_type": "code",
   "execution_count": 23,
   "id": "934abc47",
   "metadata": {},
   "outputs": [
    {
     "name": "stdout",
     "output_type": "stream",
     "text": [
      "Josie: Analytics Engineer in San Francisco with 4 followers\n"
     ]
    }
   ],
   "source": [
    "import requests\n",
    "import json\n",
    "\n",
    "data_pull = requests.get('https://api.github.com/users/JosieZhao15').json()\n",
    "\n",
    "print(f'{data_pull[\"name\"]}: {data_pull[\"bio\"]} in San Francisco with {data_pull[\"following\"]} followers')"
   ]
  },
  {
   "cell_type": "markdown",
   "id": "bfa7c270",
   "metadata": {},
   "source": [
    "**Task No.2**\n",
    "\n",
    "Make a program that:\n",
    "- Reads the JSON from https://api.github.com/repos/JosieZhao15/python_learning_space/commits.\n",
    "- Computes an array of dict. Each dict should have this structure:\n",
    "{\"date\": [commit date], \"author\": [the author's name], \"message\": [the message]}\n",
    "- Basically something like this: [ {\"date\": \"2023-01-19T05:17:15Z\", \"author\": \"Josie\", \"message\": \"renamed file\"}, {\"date\": \"2023-01-19T05:16:33Z\", \"author\": \"Josie\", \"message\": \"coding challenge feedback file\"}, ...]"
   ]
  },
  {
   "cell_type": "code",
   "execution_count": null,
   "id": "b55feaa7",
   "metadata": {},
   "outputs": [],
   "source": []
  }
 ],
 "metadata": {
  "kernelspec": {
   "display_name": "Python 3 (ipykernel)",
   "language": "python",
   "name": "python3"
  },
  "language_info": {
   "codemirror_mode": {
    "name": "ipython",
    "version": 3
   },
   "file_extension": ".py",
   "mimetype": "text/x-python",
   "name": "python",
   "nbconvert_exporter": "python",
   "pygments_lexer": "ipython3",
   "version": "3.9.13"
  }
 },
 "nbformat": 4,
 "nbformat_minor": 5
}
