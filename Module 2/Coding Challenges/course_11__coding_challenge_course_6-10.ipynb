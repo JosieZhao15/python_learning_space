{
 "cells": [
  {
   "cell_type": "markdown",
   "id": "d6617530",
   "metadata": {},
   "source": [
    "**Tasl No.1**\n",
    "\n",
    "Make a program that:\n",
    "Reads the JSON from https://api.github.com/users/JosieZhao15.\n",
    "Displays basic information about the user \"Josie: Analytics Engineer in San Francisco with 4 followers\"."
   ]
  },
  {
   "cell_type": "code",
   "execution_count": 23,
   "id": "934abc47",
   "metadata": {},
   "outputs": [
    {
     "name": "stdout",
     "output_type": "stream",
     "text": [
      "Josie: Analytics Engineer in San Francisco with 4 followers\n"
     ]
    }
   ],
   "source": [
    "import requests\n",
    "import json\n",
    "\n",
    "data_pull = requests.get('https://api.github.com/users/JosieZhao15').json()\n",
    "\n",
    "print(f'{data_pull[\"name\"]}: {data_pull[\"bio\"]} in San Francisco with {data_pull[\"following\"]} followers')"
   ]
  },
  {
   "cell_type": "markdown",
   "id": "bfa7c270",
   "metadata": {},
   "source": [
    "**Task No.2**\n",
    "\n",
    "Make a program that:\n",
    "- Reads the JSON from https://api.github.com/repos/JosieZhao15/python_learning_space/commits.\n",
    "- Computes an array of dict. Each dict should have this structure:\n",
    "{\"date\": [commit date], \"author\": [the author's name], \"message\": [the message]}\n",
    "- Basically something like this: [ {\"date\": \"2023-01-19T05:17:15Z\", \"author\": \"Josie\", \"message\": \"renamed file\"}, {\"date\": \"2023-01-19T05:16:33Z\", \"author\": \"Josie\", \"message\": \"coding challenge feedback file\"}, ...]"
   ]
  },
  {
   "cell_type": "code",
   "execution_count": 12,
   "id": "b55feaa7",
   "metadata": {},
   "outputs": [
    {
     "data": {
      "text/plain": [
       "[{'date': '2023-02-10T06:23:59Z',\n",
       "  'name': 'Josie',\n",
       "  'message': 'task 3 still wip'},\n",
       " {'date': '2023-02-06T01:26:14Z',\n",
       "  'name': 'Josie',\n",
       "  'message': 'course 11 task 3 wip'},\n",
       " {'date': '2023-02-04T05:31:28Z',\n",
       "  'name': 'Josie',\n",
       "  'message': 'course 11 task 3 wip'},\n",
       " {'date': '2023-02-04T01:41:06Z', 'name': 'Josie', 'message': 'course 11 wip'},\n",
       " {'date': '2023-01-31T04:21:11Z',\n",
       "  'name': 'Josie',\n",
       "  'message': 'Merge pull request #4 from atn832/main'},\n",
       " {'date': '2023-01-31T03:52:24Z',\n",
       "  'name': 'Anh Tuan Nguyen',\n",
       "  'message': 'reviewed course 9'},\n",
       " {'date': '2023-01-31T01:48:30Z',\n",
       "  'name': 'Josie',\n",
       "  'message': 'course 11 coding tasks wip'},\n",
       " {'date': '2023-01-30T23:55:10Z',\n",
       "  'name': 'Josie',\n",
       "  'message': 'course 9 completed, starting on course 10'},\n",
       " {'date': '2023-01-30T23:21:37Z',\n",
       "  'name': 'Josie',\n",
       "  'message': 'course 9 coding task wip'},\n",
       " {'date': '2023-01-24T05:48:34Z',\n",
       "  'name': 'Josie',\n",
       "  'message': 'Merge pull request #3 from atn832/main\\n\\nfinal remarks for course 6, 7, 8'},\n",
       " {'date': '2023-01-23T05:04:57Z',\n",
       "  'name': 'Anh Tuan Nguyen',\n",
       "  'message': 'final remarks'},\n",
       " {'date': '2023-01-23T03:37:30Z',\n",
       "  'name': 'Josie',\n",
       "  'message': \"fixed the coding tasks' solutions based on feedback\"},\n",
       " {'date': '2023-01-23T02:42:45Z',\n",
       "  'name': 'Josie',\n",
       "  'message': \"Merge branch 'main' of https://github.com/JosieZhao15/python_learning_space\"},\n",
       " {'date': '2023-01-23T02:42:29Z', 'name': 'Josie', 'message': 'course 9 wip'},\n",
       " {'date': '2023-01-23T02:37:56Z',\n",
       "  'name': 'Josie',\n",
       "  'message': 'Merge pull request #2 from atn832/main\\n\\nreviewed coding challenges and course 6 notes'},\n",
       " {'date': '2023-01-23T01:57:19Z',\n",
       "  'name': 'Anh Tuan Nguyen',\n",
       "  'message': 'reviewed coding challenges and course 6 notes'},\n",
       " {'date': '2023-01-22T23:30:14Z',\n",
       "  'name': 'Josie',\n",
       "  'message': 'coding task 8 completed'},\n",
       " {'date': '2023-01-22T23:20:40Z',\n",
       "  'name': 'Josie',\n",
       "  'message': 'updated file structures'},\n",
       " {'date': '2023-01-22T23:16:37Z', 'name': 'Josie', 'message': 'course 8'},\n",
       " {'date': '2023-01-22T22:57:43Z',\n",
       "  'name': 'Josie',\n",
       "  'message': 'coding tasks completed for course 7'},\n",
       " {'date': '2023-01-22T22:17:10Z', 'name': 'Josie', 'message': 'file updates'},\n",
       " {'date': '2023-01-22T20:37:26Z', 'name': 'Josie', 'message': 'source 7'},\n",
       " {'date': '2023-01-21T21:55:29Z',\n",
       "  'name': 'Josie',\n",
       "  'message': \"Merge branch 'main' of https://github.com/JosieZhao15/python_learning_space\"},\n",
       " {'date': '2023-01-21T21:55:26Z',\n",
       "  'name': 'Josie',\n",
       "  'message': 'course 6 on list comprehension'},\n",
       " {'date': '2023-01-20T16:11:49Z',\n",
       "  'name': 'Josie',\n",
       "  'message': 'Merge pull request #1 from atn832/main'},\n",
       " {'date': '2023-01-20T05:53:00Z',\n",
       "  'name': 'Anh Tuan Nguyen',\n",
       "  'message': 'left 🐝 comments'},\n",
       " {'date': '2023-01-20T03:13:15Z',\n",
       "  'name': 'Josie',\n",
       "  'message': 'finished re-doing the coding tasks for course 1 to 4'},\n",
       " {'date': '2023-01-19T05:17:15Z', 'name': 'Josie', 'message': 'renamed file'},\n",
       " {'date': '2023-01-19T05:16:33Z',\n",
       "  'name': 'Josie',\n",
       "  'message': 'coding challenge feedback file'},\n",
       " {'date': '2023-01-19T00:50:00Z', 'name': 'Josie', 'message': 'task 11'}]"
      ]
     },
     "execution_count": 12,
     "metadata": {},
     "output_type": "execute_result"
    }
   ],
   "source": [
    "import requests\n",
    "import json\n",
    "\n",
    "data_pull = requests.get('https://api.github.com/repos/JosieZhao15/python_learning_space/commits').json()\n",
    "commits = []\n",
    "\n",
    "for x in list(data_pull):\n",
    "    author = x['commit']['author']\n",
    "    del author['email']\n",
    "    sort = dict(sorted(author.items(), key=lambda x: x[0]))\n",
    "    sort['message'] = x['commit']['message']\n",
    "    commits.append(sort)\n",
    "commits"
   ]
  },
  {
   "cell_type": "markdown",
   "id": "ed6a7054",
   "metadata": {},
   "source": [
    "jupyter executes:\n",
    "all the code in the for loop for the first element\n",
    "all the code in the for loop for the second element\n",
    "all the code in the for loop for the third element...\n",
    "the for loop ends running with result <nothing>"
   ]
  },
  {
   "cell_type": "markdown",
   "id": "073f2fc1",
   "metadata": {},
   "source": [
    "**Task No.3**\n",
    "\n",
    "Make a program that:\n",
    "1. Reads the JSON from https://data.covid19india.org/state_district_wise.json.\n",
    "2. Computes the total number of confirmed cases and recovered cases by state into an array of dict.\n",
    "[{ \"state\": \"Andaman and Nicobar Islands\", \"confirmedCases\": 7548, \"recoveredCases\": ....}, { \"state\": \"Andhra Pradesh\", \"confirmedCases\": ...}...]\n",
    "3. Using the dict from bullet point #2, print out the name and confirmed cases of top 5 states with the most number of confirmed cases in decreasing order.\n",
    "4. Using the dict from bullet point #2, print out the recovery rate of each state. The recovery rate is computed by the following: total recovered / total confirmed. It should be displayed with 2 decimals. For example it should show something like this: Andaman and Nicobar Islands: 68.74%.\n",
    "5. Now print out the 5 states in which the recovery is the smallest."
   ]
  },
  {
   "cell_type": "code",
   "execution_count": 13,
   "id": "9760a489",
   "metadata": {},
   "outputs": [
    {
     "data": {
      "text/plain": [
       "[{'state': 'State Unassigned', 'confirmedCases': 0, 'recoveredCases': 0},\n",
       " {'state': 'Andaman and Nicobar Islands',\n",
       "  'confirmedCases': 7548,\n",
       "  'recoveredCases': 7413},\n",
       " {'state': 'Andhra Pradesh',\n",
       "  'confirmedCases': 1994599,\n",
       "  'recoveredCases': 1962465},\n",
       " {'state': 'Arunachal Pradesh',\n",
       "  'confirmedCases': 2045392,\n",
       "  'recoveredCases': 2010519},\n",
       " {'state': 'Assam', 'confirmedCases': 2622427, 'recoveredCases': 2571301},\n",
       " {'state': 'Bihar', 'confirmedCases': 3347753, 'recoveredCases': 3286704},\n",
       " {'state': 'Chandigarh', 'confirmedCases': 3409750, 'recoveredCases': 3347855},\n",
       " {'state': 'Chhattisgarh',\n",
       "  'confirmedCases': 4413189,\n",
       "  'recoveredCases': 4336192},\n",
       " {'state': 'Delhi', 'confirmedCases': 5850078, 'recoveredCases': 5747519},\n",
       " {'state': 'Dadra and Nagar Haveli and Daman and Diu',\n",
       "  'confirmedCases': 5860735,\n",
       "  'recoveredCases': 5758134},\n",
       " {'state': 'Goa', 'confirmedCases': 6032923, 'recoveredCases': 5926175},\n",
       " {'state': 'Gujarat', 'confirmedCases': 6858024, 'recoveredCases': 6741005},\n",
       " {'state': 'Himachal Pradesh',\n",
       "  'confirmedCases': 7067014,\n",
       "  'recoveredCases': 6943898},\n",
       " {'state': 'Haryana', 'confirmedCases': 7837144, 'recoveredCases': 7703705},\n",
       " {'state': 'Jharkhand', 'confirmedCases': 8184598, 'recoveredCases': 8045833},\n",
       " {'state': 'Jammu and Kashmir',\n",
       "  'confirmedCases': 8507483,\n",
       "  'recoveredCases': 8363028},\n",
       " {'state': 'Karnataka',\n",
       "  'confirmedCases': 11430358,\n",
       "  'recoveredCases': 11226145},\n",
       " {'state': 'Kerala', 'confirmedCases': 15040551, 'recoveredCases': 14641740},\n",
       " {'state': 'Ladakh', 'confirmedCases': 15060958, 'recoveredCases': 14661870},\n",
       " {'state': 'Lakshadweep',\n",
       "  'confirmedCases': 15071226,\n",
       "  'recoveredCases': 14672005},\n",
       " {'state': 'Maharashtra',\n",
       "  'confirmedCases': 21440228,\n",
       "  'recoveredCases': 20838625},\n",
       " {'state': 'Meghalaya',\n",
       "  'confirmedCases': 21510460,\n",
       "  'recoveredCases': 20903166},\n",
       " {'state': 'Manipur', 'confirmedCases': 21616490, 'recoveredCases': 21000665},\n",
       " {'state': 'Madhya Pradesh',\n",
       "  'confirmedCases': 22408480,\n",
       "  'recoveredCases': 21782009},\n",
       " {'state': 'Mizoram', 'confirmedCases': 22454800, 'recoveredCases': 21816743},\n",
       " {'state': 'Nagaland', 'confirmedCases': 22483675, 'recoveredCases': 21842844},\n",
       " {'state': 'Odisha', 'confirmedCases': 23473750, 'recoveredCases': 22816423},\n",
       " {'state': 'Punjab', 'confirmedCases': 24073428, 'recoveredCases': 23399259},\n",
       " {'state': 'Puducherry',\n",
       "  'confirmedCases': 24195308,\n",
       "  'recoveredCases': 23518472},\n",
       " {'state': 'Rajasthan',\n",
       "  'confirmedCases': 25149178,\n",
       "  'recoveredCases': 24463193},\n",
       " {'state': 'Sikkim', 'confirmedCases': 25177353, 'recoveredCases': 24488188},\n",
       " {'state': 'Telangana',\n",
       "  'confirmedCases': 25828188,\n",
       "  'recoveredCases': 25127053},\n",
       " {'state': 'Tamil Nadu',\n",
       "  'confirmedCases': 28409282,\n",
       "  'recoveredCases': 27653370},\n",
       " {'state': 'Tripura', 'confirmedCases': 28489939, 'recoveredCases': 27731118},\n",
       " {'state': 'Uttar Pradesh',\n",
       "  'confirmedCases': 30198775,\n",
       "  'recoveredCases': 29416673},\n",
       " {'state': 'Uttarakhand',\n",
       "  'confirmedCases': 30541277,\n",
       "  'recoveredCases': 29745331},\n",
       " {'state': 'West Bengal',\n",
       "  'confirmedCases': 32076976,\n",
       "  'recoveredCases': 31252609}]"
      ]
     },
     "execution_count": 13,
     "metadata": {},
     "output_type": "execute_result"
    }
   ],
   "source": [
    "#bullet point 2 - Computes the total number of confirmed cases and recovered cases by state into an array of dict\n",
    "\n",
    "import requests\n",
    "import json\n",
    "\n",
    "data_pull = requests.get('https://data.covid19india.org/state_district_wise.json').json()\n",
    "\n",
    "confirmedCases = 0\n",
    "recoveredCases = 0\n",
    "covid_cases = []\n",
    "\n",
    "for state, state_stats in data_pull.items():\n",
    "    del state_stats['statecode']\n",
    "    #print(state)\n",
    "    for district, district_stats in state_stats.items():\n",
    "        #print(district_stats)\n",
    "        for covid_status, count in district_stats.items():\n",
    "            #print(dict(state=state, confirmedCases=count['confirmed'], recoveredCases=count['recovered']))\n",
    "            confirmedCases = confirmedCases + count['confirmed']\n",
    "            recoveredCases = recoveredCases + count['recovered']\n",
    "    cases_by_state = dict(state=state,confirmedCases=confirmedCases, recoveredCases=recoveredCases)\n",
    "    #print(cases_by_state)\n",
    "    covid_cases.append(cases_by_state)\n",
    "covid_cases"
   ]
  },
  {
   "cell_type": "code",
   "execution_count": 22,
   "id": "93e72b1c",
   "metadata": {},
   "outputs": [
    {
     "name": "stdout",
     "output_type": "stream",
     "text": [
      "{'Unassigned': {'notes': '', 'active': 0, 'confirmed': 0, 'migratedother': 0, 'deceased': 0, 'recovered': 0, 'delta': {'confirmed': 0, 'deceased': 0, 'recovered': 0}}}\n",
      "<class 'dict'>\n",
      "UN\n",
      "<class 'str'>\n"
     ]
    },
    {
     "ename": "AttributeError",
     "evalue": "'str' object has no attribute 'items'",
     "output_type": "error",
     "traceback": [
      "\u001b[0;31m---------------------------------------------------------------------------\u001b[0m",
      "\u001b[0;31mAttributeError\u001b[0m                            Traceback (most recent call last)",
      "\u001b[0;32m/var/folders/df/tzfnf_r155v72q063dfdcfjw0000gn/T/ipykernel_34461/867384373.py\u001b[0m in \u001b[0;36m<module>\u001b[0;34m\u001b[0m\n\u001b[1;32m     16\u001b[0m         \u001b[0mprint\u001b[0m\u001b[0;34m(\u001b[0m\u001b[0mdistrict_stats\u001b[0m\u001b[0;34m)\u001b[0m\u001b[0;34m\u001b[0m\u001b[0;34m\u001b[0m\u001b[0m\n\u001b[1;32m     17\u001b[0m         \u001b[0mprint\u001b[0m\u001b[0;34m(\u001b[0m\u001b[0mtype\u001b[0m\u001b[0;34m(\u001b[0m\u001b[0mdistrict_stats\u001b[0m\u001b[0;34m)\u001b[0m\u001b[0;34m)\u001b[0m\u001b[0;34m\u001b[0m\u001b[0;34m\u001b[0m\u001b[0m\n\u001b[0;32m---> 18\u001b[0;31m         \u001b[0;32mfor\u001b[0m \u001b[0mcovid_status\u001b[0m\u001b[0;34m,\u001b[0m \u001b[0mcount\u001b[0m \u001b[0;32min\u001b[0m \u001b[0mdistrict_stats\u001b[0m\u001b[0;34m.\u001b[0m\u001b[0mitems\u001b[0m\u001b[0;34m(\u001b[0m\u001b[0;34m)\u001b[0m\u001b[0;34m:\u001b[0m\u001b[0;34m\u001b[0m\u001b[0;34m\u001b[0m\u001b[0m\n\u001b[0m\u001b[1;32m     19\u001b[0m             \u001b[0;31m#print(dict(state=state, confirmedCases=count['confirmed'], recoveredCases=count['recovered']))\u001b[0m\u001b[0;34m\u001b[0m\u001b[0;34m\u001b[0m\u001b[0m\n\u001b[1;32m     20\u001b[0m             \u001b[0mconfirmedCases\u001b[0m \u001b[0;34m=\u001b[0m \u001b[0mconfirmedCases\u001b[0m \u001b[0;34m+\u001b[0m \u001b[0mcount\u001b[0m\u001b[0;34m[\u001b[0m\u001b[0;34m'confirmed'\u001b[0m\u001b[0;34m]\u001b[0m\u001b[0;34m\u001b[0m\u001b[0;34m\u001b[0m\u001b[0m\n",
      "\u001b[0;31mAttributeError\u001b[0m: 'str' object has no attribute 'items'"
     ]
    }
   ],
   "source": [
    "#bullet point 2 - example error to show why the del was coded initially\n",
    "\n",
    "import requests\n",
    "import json\n",
    "\n",
    "data_pull = requests.get('https://data.covid19india.org/state_district_wise.json').json()\n",
    "\n",
    "confirmedCases = 0\n",
    "recoveredCases = 0\n",
    "covid_cases = []\n",
    "\n",
    "for state, state_stats in data_pull.items():\n",
    "    #del state_stats['statecode']\n",
    "    #print(state)\n",
    "    for district, district_stats in state_stats.items():\n",
    "        print(district_stats)\n",
    "        print(type(district_stats))\n",
    "        for covid_status, count in district_stats.items():\n",
    "            #print(dict(state=state, confirmedCases=count['confirmed'], recoveredCases=count['recovered']))\n",
    "            confirmedCases = confirmedCases + count['confirmed']\n",
    "            recoveredCases = recoveredCases + count['recovered']\n",
    "    cases_by_state = dict(state=state,confirmedCases=confirmedCases, recoveredCases=recoveredCases)\n",
    "    #print(cases_by_state)\n",
    "    covid_cases.append(cases_by_state)\n",
    "covid_cases\n"
   ]
  },
  {
   "cell_type": "markdown",
   "id": "8be8bcfc",
   "metadata": {},
   "source": [
    "some notes:\n",
    "\n",
    "Task 2 - make the dict by calling the needed key value pair, instead of using del; try another approach using list comprehensions\n",
    "\n",
    "Task 3 - instead of using del, try to call out the key:value pair that's needed. Also figure out why there's data discrepency in the count, the count numbers are not accurate"
   ]
  },
  {
   "cell_type": "code",
   "execution_count": null,
   "id": "00a47c36",
   "metadata": {},
   "outputs": [],
   "source": [
    "#bullet point 3 - Using the dict from bullet point #2, print out the name and confirmed cases of top 5 states with the most number of confirmed cases in decreasing order.\n"
   ]
  }
 ],
 "metadata": {
  "kernelspec": {
   "display_name": "Python 3 (ipykernel)",
   "language": "python",
   "name": "python3"
  },
  "language_info": {
   "codemirror_mode": {
    "name": "ipython",
    "version": 3
   },
   "file_extension": ".py",
   "mimetype": "text/x-python",
   "name": "python",
   "nbconvert_exporter": "python",
   "pygments_lexer": "ipython3",
   "version": "3.9.13"
  }
 },
 "nbformat": 4,
 "nbformat_minor": 5
}
