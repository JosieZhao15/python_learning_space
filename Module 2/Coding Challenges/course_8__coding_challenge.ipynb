{
 "cells": [
  {
   "cell_type": "markdown",
   "id": "3553434b",
   "metadata": {},
   "source": [
    "Make a program that:\n",
    "- Asks the user to type the name of a city.\n",
    "- If the name of the city is \"seoul\", \"busan\" or \"jeju\", print out \"[city name] is in Korea!\".\n",
    "- If the name of the city is \"paris\", \"nice\", \"marseille\", \"bordeaux\", or \"toulouse\", print out \"[city name] is in France!\".\n",
    "- If it is anything else, print out \"[city name]? I do not know where that is!\"\n"
   ]
  },
  {
   "cell_type": "code",
   "execution_count": 4,
   "id": "09fd3bbf",
   "metadata": {},
   "outputs": [
    {
     "name": "stdout",
     "output_type": "stream",
     "text": [
      "jeju? I do not know where that is!\n"
     ]
    }
   ],
   "source": [
    "city_name = input('Please type the name of a city:')\n",
    "\n",
    "korean_city = {\"seoul\", \"busan\" or \"jeju\"}\n",
    "french_city = {\"paris\", \"nice\", \"marseille\", \"bordeaux\", \"toulouse\"}\n",
    "\n",
    "if city_name in korean_city:\n",
    "    print('Korea')\n",
    "elif city_name in french_city:\n",
    "    print('France')\n",
    "else:\n",
    "    print(f'{city_name}? I do not know where that is!')"
   ]
  },
  {
   "attachments": {},
   "cell_type": "markdown",
   "id": "747a22ec",
   "metadata": {},
   "source": [
    "🐝 It did not work when I typed `\"jeju\"`. Can you fix it? Also the instructions said it should print out `[city_name] is in [country_name]`."
   ]
  }
 ],
 "metadata": {
  "kernelspec": {
   "display_name": "Python 3",
   "language": "python",
   "name": "python3"
  },
  "language_info": {
   "codemirror_mode": {
    "name": "ipython",
    "version": 3
   },
   "file_extension": ".py",
   "mimetype": "text/x-python",
   "name": "python",
   "nbconvert_exporter": "python",
   "pygments_lexer": "ipython3",
   "version": "3.10.4"
  },
  "vscode": {
   "interpreter": {
    "hash": "3ad933181bd8a04b432d3370b9dc3b0662ad032c4dfaa4e4f1596c548f763858"
   }
  }
 },
 "nbformat": 4,
 "nbformat_minor": 5
}
