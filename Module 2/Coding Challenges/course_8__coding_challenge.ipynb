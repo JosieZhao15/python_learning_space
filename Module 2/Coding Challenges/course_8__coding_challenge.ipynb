{
 "cells": [
  {
   "cell_type": "markdown",
   "id": "3553434b",
   "metadata": {},
   "source": [
    "Make a program that:\n",
    "- Asks the user to type the name of a city.\n",
    "- If the name of the city is \"seoul\", \"busan\" or \"jeju\", print out \"[city name] is in Korea!\".\n",
    "- If the name of the city is \"paris\", \"nice\", \"marseille\", \"bordeaux\", or \"toulouse\", print out \"[city name] is in France!\".\n",
    "- If it is anything else, print out \"[city name]? I do not know where that is!\"\n"
   ]
  },
  {
   "cell_type": "code",
   "execution_count": 3,
   "id": "09fd3bbf",
   "metadata": {},
   "outputs": [
    {
     "name": "stdout",
     "output_type": "stream",
     "text": [
      "Please type the name of a city:jeju\n",
      "jeju? I do not know where that is!\n"
     ]
    }
   ],
   "source": [
    "city_name = input('Please type the name of a city:')\n",
    "\n",
    "korean_city = {\"seoul\", \"busan\" or \"jeju\"}\n",
    "french_city = {\"paris\", \"nice\", \"marseille\", \"bordeaux\", \"toulouse\"}\n",
    "\n",
    "if city_name in korean_city:\n",
    "    print('Korea')\n",
    "elif city_name in french_city:\n",
    "    print('France')\n",
    "else:\n",
    "    print(f'{city_name}? I do not know where that is!')"
   ]
  },
  {
   "cell_type": "markdown",
   "id": "747a22ec",
   "metadata": {},
   "source": [
    "🐝 It did not work when I typed `\"jeju\"`. Can you fix it? Also the instructions said it should print out `[city_name] is in [country_name]`."
   ]
  },
  {
   "cell_type": "code",
   "execution_count": 6,
   "id": "b90af8e4",
   "metadata": {},
   "outputs": [
    {
     "name": "stdout",
     "output_type": "stream",
     "text": [
      "Please type the name of a city:paris\n",
      "paris is in France!\n"
     ]
    }
   ],
   "source": [
    "#❗Fixed slution based on feedback!\n",
    "\n",
    "city_name = input('Please type the name of a city:')\n",
    "\n",
    "korean_city = {\"seoul\", \"busan\", \"jeju\"}\n",
    "french_city = {\"paris\", \"nice\", \"marseille\", \"bordeaux\", \"toulouse\"}\n",
    "\n",
    "if city_name in korean_city:\n",
    "    print(f'{city_name} is in Korea!')\n",
    "elif city_name in french_city:\n",
    "    print(f'{city_name} is in France!')\n",
    "else:\n",
    "    print(f'{city_name}? I do not know where that is!')"
   ]
  },
  {
   "attachments": {},
   "cell_type": "markdown",
   "id": "4a4a0e87",
   "metadata": {},
   "source": [
    "🐝 I forgot to say it earlier, but it is better to call your set `korean_cities` and `french_cities` instead of city, since it is a set that contains all the cities in those countries. It makes the condition more meaningful as well: `if city_name in korean_cities`. If it is written as `if city_name in korean_city` and they didn't read the first lines carefully, one might think `korean_city` is a string of one city, and that `if city_name in korean_city` checks if the string `korean_city` contains the substring `city_name`.\n",
    "\n",
    "No need to update your code here. You can use this tip in the next chapters."
   ]
  }
 ],
 "metadata": {
  "kernelspec": {
   "display_name": "Python 3 (ipykernel)",
   "language": "python",
   "name": "python3"
  },
  "language_info": {
   "codemirror_mode": {
    "name": "ipython",
    "version": 3
   },
   "file_extension": ".py",
   "mimetype": "text/x-python",
   "name": "python",
   "nbconvert_exporter": "python",
   "pygments_lexer": "ipython3",
   "version": "3.10.4 (main, Dec 19 2022, 20:24:16) [GCC 9.4.0]"
  },
  "vscode": {
   "interpreter": {
    "hash": "3ad933181bd8a04b432d3370b9dc3b0662ad032c4dfaa4e4f1596c548f763858"
   }
  }
 },
 "nbformat": 4,
 "nbformat_minor": 5
}
