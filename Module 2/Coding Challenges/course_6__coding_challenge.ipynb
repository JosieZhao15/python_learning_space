{
 "cells": [
  {
   "cell_type": "markdown",
   "id": "c3600c41",
   "metadata": {},
   "source": [
    "Coding task: Given the string \"I met an interesting turtle while the song on the radio blasted away.\", compute the list of words that are longer than 5 characters: [\"interesting\", \"turtle\", ... \"blasted\"]. \n",
    "\n",
    "Tip: [this function](https://docs.python.org/3/library/stdtypes.html#str.split) may be useful.\n",
    "- Solve it with a for loop.\n",
    "- Solve it with a list comprehension.\n"
   ]
  },
  {
   "cell_type": "code",
   "execution_count": 6,
   "id": "a566aaa5",
   "metadata": {},
   "outputs": [],
   "source": [
    "sentence = \"I met an interesting turtle while the song on the radio blasted away.\""
   ]
  },
  {
   "cell_type": "code",
   "execution_count": 5,
   "id": "95d853e4",
   "metadata": {},
   "outputs": [
    {
     "name": "stdout",
     "output_type": "stream",
     "text": [
      "interesting\n",
      "turtle\n",
      "blasted\n"
     ]
    }
   ],
   "source": [
    "#Solution using for loop\n",
    "words = sentence.split(' ')\n",
    "for word in words:\n",
    "    if len(word) > 5:\n",
    "        print(word)"
   ]
  },
  {
   "cell_type": "markdown",
   "id": "746f608d",
   "metadata": {},
   "source": [
    "🐝 This is good. The only detail is that I asked to compute the list of words, so it should return a list of words instead of printing out each word individually."
   ]
  },
  {
   "cell_type": "code",
   "execution_count": 10,
   "id": "f0011d4f",
   "metadata": {},
   "outputs": [
    {
     "name": "stdout",
     "output_type": "stream",
     "text": [
      "['interesting', 'turtle', 'blasted']\n"
     ]
    }
   ],
   "source": [
    "#❗Solution using for loop based on feedback\n",
    "sentence = \"I met an interesting turtle while the song on the radio blasted away.\"\n",
    "x = []\n",
    "words = sentence.split(' ')\n",
    "for word in words:\n",
    "    if len(word) > 5:\n",
    "        x.append(word)\n",
    "print(x)"
   ]
  },
  {
   "cell_type": "code",
   "execution_count": 8,
   "id": "829b9a50",
   "metadata": {},
   "outputs": [
    {
     "data": {
      "text/plain": [
       "['interesting', 'turtle', 'blasted']"
      ]
     },
     "execution_count": 8,
     "metadata": {},
     "output_type": "execute_result"
    }
   ],
   "source": [
    "#Solution using list comprehension\n",
    "words = sentence.split(' ')\n",
    "[word for word in words if len(word) > 5]"
   ]
  },
  {
   "cell_type": "markdown",
   "id": "1ce23ed7",
   "metadata": {},
   "source": [
    "🐝 Perfect!"
   ]
  }
 ],
 "metadata": {
  "kernelspec": {
   "display_name": "Python 3 (ipykernel)",
   "language": "python",
   "name": "python3"
  },
  "language_info": {
   "codemirror_mode": {
    "name": "ipython",
    "version": 3
   },
   "file_extension": ".py",
   "mimetype": "text/x-python",
   "name": "python",
   "nbconvert_exporter": "python",
   "pygments_lexer": "ipython3",
   "version": "3.9.13"
  }
 },
 "nbformat": 4,
 "nbformat_minor": 5
}
