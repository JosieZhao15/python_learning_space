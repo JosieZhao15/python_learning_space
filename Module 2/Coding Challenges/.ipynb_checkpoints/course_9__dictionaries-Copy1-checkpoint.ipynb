{
 "cells": [
  {
   "cell_type": "markdown",
   "id": "1e28ff3a",
   "metadata": {},
   "source": [
    "**Task No.1**\n",
    "\n",
    "Make the program that:\n",
    "- Given the dictionary {\"Pakistan\": 220892340, \"China\": 1439323776, \"India\": 1380004385, \"United States\": 331002651, \"Indonesia\": 273523615}.\n",
    "- Asks the user to type the name of a country.\n",
    "- Prints out the population of that country."
   ]
  },
  {
   "cell_type": "code",
   "execution_count": 28,
   "id": "ebae4607",
   "metadata": {},
   "outputs": [
    {
     "name": "stdout",
     "output_type": "stream",
     "text": [
      "Please enter a country name:Pakistan\n",
      "220892340\n"
     ]
    }
   ],
   "source": [
    "country_input = input('Please enter a country name:')\n",
    "populations =  {\n",
    "    \"Pakistan\": 220892340, \n",
    "    \"China\": 1439323776, \n",
    "    \"India\": 1380004385, \n",
    "    \"United States\": 331002651, \n",
    "    \"Indonesia\": 273523615\n",
    "    }\n",
    "\n",
    "for country,population in populations.items():\n",
    "    if country in country_input:\n",
    "        print(population)"
   ]
  },
  {
   "cell_type": "markdown",
   "id": "9a857a4e",
   "metadata": {},
   "source": [
    "**Task No.2**\n",
    "\n",
    "Make another program that:\n",
    "- Given the dictionary {\"Pakistan\": 220892340, \"China\": 1439323776, \"India\": 1380004385, \"United States\": 331002651, \"Indonesia\": 273523615}.\n",
    "- Prints out the population of each country in increasing order.\n",
    "- It should start with Pakistan, then Indonesia... and end with China."
   ]
  },
  {
   "cell_type": "code",
   "execution_count": 26,
   "id": "5015611f",
   "metadata": {},
   "outputs": [
    {
     "name": "stdout",
     "output_type": "stream",
     "text": [
      "220892340\n",
      "1439323776\n",
      "1380004385\n",
      "331002651\n",
      "273523615\n"
     ]
    }
   ],
   "source": [
    "populations =  {\n",
    "    \"Pakistan\": 220892340, \n",
    "    \"China\": 1439323776, \n",
    "    \"India\": 1380004385, \n",
    "    \"United States\": 331002651, \n",
    "    \"Indonesia\": 273523615\n",
    "    }\n",
    "for c,p in populations.items():\n",
    "    print(p)"
   ]
  },
  {
   "cell_type": "code",
   "execution_count": null,
   "id": "50e990ce",
   "metadata": {},
   "outputs": [],
   "source": []
  }
 ],
 "metadata": {
  "kernelspec": {
   "display_name": "Python 3 (ipykernel)",
   "language": "python",
   "name": "python3"
  },
  "language_info": {
   "codemirror_mode": {
    "name": "ipython",
    "version": 3
   },
   "file_extension": ".py",
   "mimetype": "text/x-python",
   "name": "python",
   "nbconvert_exporter": "python",
   "pygments_lexer": "ipython3",
   "version": "3.9.13"
  }
 },
 "nbformat": 4,
 "nbformat_minor": 5
}
