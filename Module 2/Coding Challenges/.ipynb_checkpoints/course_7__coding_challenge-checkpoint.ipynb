{
 "cells": [
  {
   "cell_type": "markdown",
   "id": "c8d5feba",
   "metadata": {},
   "source": [
    "A Matrix is a list of list of elements. For example, [[0, 1, 2], [3, 4, 5]] is a 2x3 matrix (2 rows, 3 columns):"
   ]
  },
  {
   "cell_type": "code",
   "execution_count": 4,
   "id": "7d0d7fc5",
   "metadata": {},
   "outputs": [
    {
     "name": "stdout",
     "output_type": "stream",
     "text": [
      "Matrix:\n",
      " +---+---+---+\n",
      " | 0 | 1 | 2 | \n",
      " +---+---+---+\n",
      " | 3 | 4 | 5 | \n",
      " +---+---+---+\n",
      "\n"
     ]
    }
   ],
   "source": [
    " print( 'Matrix:' '''\n",
    "  +---+---+---+\n",
    "  | 0 | 1 | 2 | \n",
    "  +---+---+---+\n",
    "  | 3 | 4 | 5 | \n",
    "  +---+---+---+\n",
    "''')"
   ]
  },
  {
   "cell_type": "markdown",
   "id": "be4951d4",
   "metadata": {},
   "source": [
    "**Task No.1**\n",
    "\n",
    "Given the 3x4 matrix m = [[3, 6, 7, 8], [6, 9, 23, 6], [15, 57, 23, 6]], compute the sum of each row (for the first row, 3 + 6 + 15 = 24) and return the list [24, 44, 101]. It is a list of 3 elements, each element being the sum of one of the rows.\n",
    "Solve it anyway you like. With a for loop or list comprehension.\n",
    "Once it works, try a few other ways to clean up your code.\n"
   ]
  },
  {
   "cell_type": "code",
   "execution_count": 117,
   "id": "c2ee0b7f",
   "metadata": {},
   "outputs": [],
   "source": [
    "m = [\n",
    "    [3, 6, 7, 8], \n",
    "    [6, 9, 23, 6], \n",
    "    [15, 57, 23, 6]\n",
    "]"
   ]
  },
  {
   "cell_type": "code",
   "execution_count": 118,
   "id": "7162fefd",
   "metadata": {},
   "outputs": [
    {
     "name": "stdout",
     "output_type": "stream",
     "text": [
      "[24, 44, 101]\n"
     ]
    }
   ],
   "source": [
    "#Solution using sum() in a for loop\n",
    "x = []\n",
    "for num_ls in m:\n",
    "    x.append(sum(num_ls))\n",
    "print(x)"
   ]
  },
  {
   "cell_type": "code",
   "execution_count": 119,
   "id": "639a2bfc",
   "metadata": {},
   "outputs": [
    {
     "data": {
      "text/plain": [
       "[24, 44, 101]"
      ]
     },
     "execution_count": 119,
     "metadata": {},
     "output_type": "execute_result"
    }
   ],
   "source": [
    "#Solution using list comprehension\n",
    "[sum(num_ls) for num_ls in m]"
   ]
  },
  {
   "cell_type": "markdown",
   "id": "c5a56439",
   "metadata": {},
   "source": [
    "**Task No.2**\n",
    "\n",
    "Given the same matrix, compute the sum of each column and return the list [24, 72, 53, 20]. For the first column, 3 + 6 + 15 = 24."
   ]
  },
  {
   "cell_type": "code",
   "execution_count": 120,
   "id": "b4f482cf",
   "metadata": {},
   "outputs": [
    {
     "data": {
      "text/plain": [
       "[[3, 6, 15], [6, 9, 57], [7, 23, 23], [8, 6, 6]]"
      ]
     },
     "execution_count": 120,
     "metadata": {},
     "output_type": "execute_result"
    }
   ],
   "source": [
    "columns = [[row[i] for row in m] for i in range(4)]\n",
    "columns"
   ]
  },
  {
   "cell_type": "code",
   "execution_count": 121,
   "id": "0075278a",
   "metadata": {},
   "outputs": [
    {
     "name": "stdout",
     "output_type": "stream",
     "text": [
      "[24, 72, 53, 20]\n"
     ]
    }
   ],
   "source": [
    "#Solution using sum() in a for loop\n",
    "\n",
    "x = []\n",
    "for column in columns:\n",
    "    x.append(sum(column))\n",
    "print(x)"
   ]
  },
  {
   "cell_type": "code",
   "execution_count": 122,
   "id": "873133c3",
   "metadata": {},
   "outputs": [
    {
     "data": {
      "text/plain": [
       "[24, 72, 53, 20]"
      ]
     },
     "execution_count": 122,
     "metadata": {},
     "output_type": "execute_result"
    }
   ],
   "source": [
    "#Solution using list comprehension\n",
    "\n",
    "[sum(column) for column in columns]"
   ]
  },
  {
   "cell_type": "markdown",
   "id": "a88a58d9",
   "metadata": {},
   "source": [
    "**Task No.3**\n",
    "\n",
    "Check that your code works even on matrices of different sizes without changing anything in the looping code. Try with the 2 x 5 matrix m = [[26, 57, 53, 45, 33], [7, 4, 3, 78, 2]]. The sum of rows should give you [214, 94] and the sum of columns [33, 61, 56, 123, 35]."
   ]
  },
  {
   "cell_type": "code",
   "execution_count": 123,
   "id": "5c153867",
   "metadata": {},
   "outputs": [
    {
     "data": {
      "text/plain": [
       "[33, 61, 56, 123, 35]"
      ]
     },
     "execution_count": 123,
     "metadata": {},
     "output_type": "execute_result"
    }
   ],
   "source": [
    "m = [\n",
    "    [26, 57, 53, 45, 33],\n",
    "    [7, 4, 3, 78, 2]\n",
    "]\n",
    "\n",
    "columns = [[row[i] for row in m] for i in range(5)]\n",
    "[sum(column) for column in columns]"
   ]
  }
 ],
 "metadata": {
  "kernelspec": {
   "display_name": "Python 3 (ipykernel)",
   "language": "python",
   "name": "python3"
  },
  "language_info": {
   "codemirror_mode": {
    "name": "ipython",
    "version": 3
   },
   "file_extension": ".py",
   "mimetype": "text/x-python",
   "name": "python",
   "nbconvert_exporter": "python",
   "pygments_lexer": "ipython3",
   "version": "3.9.13"
  }
 },
 "nbformat": 4,
 "nbformat_minor": 5
}
