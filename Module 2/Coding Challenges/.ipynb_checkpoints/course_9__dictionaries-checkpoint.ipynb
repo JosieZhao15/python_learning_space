{
 "cells": [
  {
   "cell_type": "markdown",
   "id": "1e28ff3a",
   "metadata": {},
   "source": [
    "**Task No.1**\n",
    "\n",
    "Make the program that:\n",
    "- Given the dictionary {\"Pakistan\": 220892340, \"China\": 1439323776, \"India\": 1380004385, \"United States\": 331002651, \"Indonesia\": 273523615}.\n",
    "- Asks the user to type the name of a country.\n",
    "- Prints out the population of that country."
   ]
  },
  {
   "cell_type": "code",
   "execution_count": 34,
   "id": "ebae4607",
   "metadata": {},
   "outputs": [
    {
     "name": "stdout",
     "output_type": "stream",
     "text": [
      "Please enter a country name:Indonesia\n",
      "273523615\n"
     ]
    }
   ],
   "source": [
    "country_input = input('Please enter a country name:')\n",
    "populations =  {\n",
    "    \"Pakistan\": 220892340, \n",
    "    \"China\": 1439323776, \n",
    "    \"India\": 1380004385, \n",
    "    \"United States\": 331002651, \n",
    "    \"Indonesia\": 273523615\n",
    "    }\n",
    "\n",
    "for country,population in populations.items():\n",
    "    if country in country_input:\n",
    "        print(population)"
   ]
  },
  {
   "cell_type": "markdown",
   "id": "e5b70925",
   "metadata": {},
   "source": [
    "**Task No.2**\n",
    "\n",
    "Make another program that:\n",
    "- Given the dictionary {\"Pakistan\": 220892340, \"China\": 1439323776, \"India\": 1380004385, \"United States\": 331002651, \"Indonesia\": 273523615}.\n",
    "- Prints out the population of each country in increasing order.\n",
    "- It should start with Pakistan, then Indonesia... and end with China."
   ]
  },
  {
   "cell_type": "code",
   "execution_count": 37,
   "id": "060aff8d",
   "metadata": {},
   "outputs": [
    {
     "name": "stdout",
     "output_type": "stream",
     "text": [
      "[('Pakistan', 220892340), ('Indonesia', 273523615), ('United States', 331002651), ('India', 1380004385), ('China', 1439323776)]\n"
     ]
    }
   ],
   "source": [
    "populations =  {\n",
    "    \"Pakistan\": 220892340, \n",
    "    \"China\": 1439323776, \n",
    "    \"India\": 1380004385, \n",
    "    \"United States\": 331002651, \n",
    "    \"Indonesia\": 273523615\n",
    "    }\n",
    "sort = sorted( populations.items(), key=lambda x: x[1] )\n",
    "print(sort)\n",
    "\n",
    "# sorted function explained:\n",
    "# sorted(iterable, key=key, reverse=reverse)\n",
    "# in the sorted() function used above, after interting the iterable\n",
    "# then added a key= to call the values of the dictionary\n",
    "# so the sort can happen using the values"
   ]
  },
  {
   "cell_type": "markdown",
   "id": "c3ef4300",
   "metadata": {},
   "source": [
    "**Task No.3**\n",
    "\n",
    "Revisiting the cities and countries. Remake the program from Course 8 (Sets) with the following data:\n",
    "- \"seoul\", \"busan\", \"jeju\" => \"Korea\"\n",
    "- \"paris\", \"nice\", \"marseille\", \"bordeaux\", \"toulouse\" => \"France\"\n",
    "- \"manchester\", \"london\", \"cambridge\", \"bath\" => \"England\"\n",
    "- \"rome\", \"venice\", \"florence\" => \"Italy\"\n",
    "- \"tokyo\", \"kyoto\", \"nagasaki\", \"osaka\" => \"Japan\""
   ]
  },
  {
   "cell_type": "code",
   "execution_count": null,
   "id": "0dda2ce7",
   "metadata": {},
   "outputs": [],
   "source": [
    "korean_cities = {\"seoul\", \"busan\", \"jeju\"}\n",
    "french_cities = {\"paris\", \"nice\", \"marseille\", \"bordeaux\", \"toulouse\"}\n",
    "british_cities = {\"manchester\", \"london\", \"cambridge\", \"bath\"}\n",
    "italian_cities = {\"rome\", \"venice\", \"florence\"}\n",
    "japanese_cities = {\"tokyo\", \"kyoto\", \"nagasaki\", \"osaka\"}\n",
    "\n",
    "input_city = input('Please enter a city name:')\n",
    "if input_city in korean_cities:\n",
    "    print(f'{input_city} is in Korea!')\n",
    "elif input_city in french_cities:\n",
    "    print(f'{input_city} is in France!')\n",
    "elif input_city in british_cities:\n",
    "    print(f'{input_city} is in England!')\n",
    "elif input_city in british_cities:\n",
    "    print(f'{input_city} is in Italy!')\n",
    "elif input_city in japanese_cities:\n",
    "    print(f'{input_city} is in Japan!')\n",
    "else: \n",
    "    print(f'{input_city}? I do not know where that is!')"
   ]
  },
  {
   "cell_type": "code",
   "execution_count": null,
   "id": "6cd3764a",
   "metadata": {},
   "outputs": [],
   "source": []
  }
 ],
 "metadata": {
  "kernelspec": {
   "display_name": "Python 3 (ipykernel)",
   "language": "python",
   "name": "python3"
  },
  "language_info": {
   "codemirror_mode": {
    "name": "ipython",
    "version": 3
   },
   "file_extension": ".py",
   "mimetype": "text/x-python",
   "name": "python",
   "nbconvert_exporter": "python",
   "pygments_lexer": "ipython3",
   "version": "3.9.13"
  }
 },
 "nbformat": 4,
 "nbformat_minor": 5
}
