{
 "cells": [
  {
   "cell_type": "markdown",
   "id": "bdb04f1e",
   "metadata": {},
   "source": [
    "Loops learning resource: \n",
    "\n",
    "- ***if statements:*** https://docs.python.org/3/tutorial/controlflow.html#more-control-flow-tools\n",
    "\n",
    "- ***for statements:***\n",
    "https://docs.python.org/3/tutorial/controlflow.html#for-statements\n",
    "\n",
    "- ***the range() function:***\n",
    "https://docs.python.org/3/tutorial/controlflow.html#the-range-function\n",
    "\n"
   ]
  },
  {
   "cell_type": "markdown",
   "id": "de284cd8",
   "metadata": {},
   "source": [
    "-------------------------------------------------------\n",
    "***If Statements***"
   ]
  },
  {
   "cell_type": "code",
   "execution_count": 1,
   "id": "52ec9682",
   "metadata": {},
   "outputs": [
    {
     "name": "stdout",
     "output_type": "stream",
     "text": [
      "Please enter an integer:42\n"
     ]
    }
   ],
   "source": [
    "x = int( input(\"Please enter an integer:\") )\n",
    "#int() converts the specified value into an integer number.\n",
    "#for example, enter the integer: 42"
   ]
  },
  {
   "cell_type": "markdown",
   "id": "7a289f3a",
   "metadata": {},
   "source": [
    "double == equal sign is for testing if x equals to the value, where a single = equal sign means assigning value to the item"
   ]
  },
  {
   "cell_type": "code",
   "execution_count": 13,
   "id": "f5ca5c5c",
   "metadata": {},
   "outputs": [
    {
     "name": "stdout",
     "output_type": "stream",
     "text": [
      "More\n"
     ]
    }
   ],
   "source": [
    "if x < 0:\n",
    "    x = 0\n",
    "    print('Negetive changed to zero')\n",
    "elif x == 0:\n",
    "    print('Zero')\n",
    "elif x == 1:\n",
    "    print('Single')\n",
    "else:\n",
    "    print('More')"
   ]
  },
  {
   "cell_type": "markdown",
   "id": "52416b0a",
   "metadata": {},
   "source": [
    "indentation matters in python, if the above logic with incorrect indentation, it would compute error"
   ]
  },
  {
   "cell_type": "code",
   "execution_count": 14,
   "id": "d00a5607",
   "metadata": {},
   "outputs": [
    {
     "ename": "SyntaxError",
     "evalue": "invalid syntax (3276094683.py, line 4)",
     "output_type": "error",
     "traceback": [
      "\u001b[0;36m  File \u001b[0;32m\"/var/folders/df/tzfnf_r155v72q063dfdcfjw0000gn/T/ipykernel_6196/3276094683.py\"\u001b[0;36m, line \u001b[0;32m4\u001b[0m\n\u001b[0;31m    elif x == 0:\u001b[0m\n\u001b[0m    ^\u001b[0m\n\u001b[0;31mSyntaxError\u001b[0m\u001b[0;31m:\u001b[0m invalid syntax\n"
     ]
    }
   ],
   "source": [
    "if x < 0:\n",
    "    x = 0\n",
    "    print('Negetive changed to zero')\n",
    "    elif x == 0:\n",
    "    print('Zero')\n",
    "    elif x == 1:\n",
    "    print('Single')\n",
    "    else:\n",
    "    print('More')"
   ]
  },
  {
   "cell_type": "markdown",
   "id": "e79d23c3",
   "metadata": {},
   "source": [
    "There can be zero or more elif parts, and the else part is optional. The keyword ‘elif’ is short for ‘else if’, and is useful to avoid excessive indentation. An if … elif … elif … sequence is a substitute for the switch or case statements found in other languages.\n",
    "\n",
    "If you’re comparing the same value to several constants, or checking for specific types or attributes, you may also find the match statement useful. For more details see match Statements."
   ]
  },
  {
   "cell_type": "markdown",
   "id": "064fae68",
   "metadata": {},
   "source": [
    "-------------------------------------------------------\n",
    "***For Statements***"
   ]
  },
  {
   "cell_type": "markdown",
   "id": "2ecacc2c",
   "metadata": {},
   "source": [
    "The for statement in Python differs a bit from what you may be used to in C or Pascal. Rather than always iterating over an arithmetic progression of numbers (like in Pascal), or giving the user the ability to define both the iteration step and halting condition (as C), Python’s for statement iterates over the items of any sequence (a list or a string), in the order that they appear in the sequence. For example (no pun intended):"
   ]
  },
  {
   "cell_type": "code",
   "execution_count": 17,
   "id": "f347fb00",
   "metadata": {},
   "outputs": [
    {
     "name": "stdout",
     "output_type": "stream",
     "text": [
      "cat 12\n",
      "window 12\n",
      "defenestrate 12\n"
     ]
    }
   ],
   "source": [
    "#Measure some strings:\n",
    "words = ['cat', 'window', 'defenestrate']\n",
    "for b in words:\n",
    "    print(b, len(w))"
   ]
  },
  {
   "cell_type": "markdown",
   "id": "93be2654",
   "metadata": {},
   "source": [
    "Code that modifies a collection while iterating over that same collection can be tricky to get right. Instead, it is usually more straight-forward to loop over a copy of the collection or to create a new collection:"
   ]
  },
  {
   "cell_type": "code",
   "execution_count": 62,
   "id": "43e13e24",
   "metadata": {},
   "outputs": [],
   "source": [
    "#create a sample collection\n",
    "users = {'Hans': 'active', 'Éléonore':'inactive', '景太郎':'active'}\n",
    "\n",
    "#strategy: iterate over a copy\n",
    "for user, status in users.copy().items():\n",
    "    #items() method is used to return the list with all dictionary\n",
    "    if status == 'active':\n",
    "        del users[user]"
   ]
  },
  {
   "cell_type": "code",
   "execution_count": 63,
   "id": "8be7ecc3",
   "metadata": {},
   "outputs": [
    {
     "data": {
      "text/plain": [
       "{'Éléonore': 'inactive'}"
      ]
     },
     "execution_count": 63,
     "metadata": {},
     "output_type": "execute_result"
    }
   ],
   "source": [
    "users"
   ]
  },
  {
   "cell_type": "code",
   "execution_count": 64,
   "id": "9003f7c7",
   "metadata": {},
   "outputs": [],
   "source": [
    "#create a sample collection\n",
    "users_2 = {'Hans': 'active', 'Éléonore':'inactive', '景太郎':'active'}\n",
    "\n",
    "#strategy: create a new collection\n",
    "active_users = {}\n",
    "for user, status in users_2.items():\n",
    "    if status == 'active':\n",
    "        active_users[user] = status"
   ]
  },
  {
   "cell_type": "code",
   "execution_count": 65,
   "id": "aaccd69f",
   "metadata": {},
   "outputs": [
    {
     "data": {
      "text/plain": [
       "{'Hans': 'active', '景太郎': 'active'}"
      ]
     },
     "execution_count": 65,
     "metadata": {},
     "output_type": "execute_result"
    }
   ],
   "source": [
    "active_users"
   ]
  },
  {
   "cell_type": "markdown",
   "id": "3e7485b2",
   "metadata": {},
   "source": [
    "-------------------------------------------------------\n",
    "***The range() Function***"
   ]
  },
  {
   "cell_type": "markdown",
   "id": "095c7d55",
   "metadata": {},
   "source": [
    "If you do need to iterate over a sequence of numbers, the built-in function range() comes in handy. It generates arithmetic progressions:"
   ]
  },
  {
   "cell_type": "code",
   "execution_count": 67,
   "id": "bad428c8",
   "metadata": {},
   "outputs": [
    {
     "name": "stdout",
     "output_type": "stream",
     "text": [
      "0\n",
      "1\n",
      "2\n",
      "3\n",
      "4\n"
     ]
    }
   ],
   "source": [
    "for i in range(5):\n",
    "    print (i)"
   ]
  },
  {
   "cell_type": "markdown",
   "id": "fda728fb",
   "metadata": {},
   "source": [
    "The given end point is never part of the generated sequence; range(10) generates 10 values, the legal indices for items of a sequence of length 10. It is possible to let the range start at another number, or to specify a different increment (even negative; sometimes this is called the ‘step’):"
   ]
  },
  {
   "cell_type": "code",
   "execution_count": 68,
   "id": "6672123a",
   "metadata": {},
   "outputs": [
    {
     "data": {
      "text/plain": [
       "[5, 6, 7, 8, 9]"
      ]
     },
     "execution_count": 68,
     "metadata": {},
     "output_type": "execute_result"
    }
   ],
   "source": [
    "list(range(5,10))"
   ]
  },
  {
   "cell_type": "code",
   "execution_count": 69,
   "id": "59959240",
   "metadata": {},
   "outputs": [
    {
     "data": {
      "text/plain": [
       "[3]"
      ]
     },
     "execution_count": 69,
     "metadata": {},
     "output_type": "execute_result"
    }
   ],
   "source": [
    "list(range(3,9,20))"
   ]
  },
  {
   "cell_type": "markdown",
   "id": "52595b87",
   "metadata": {},
   "source": [
    "The range(start, stop, step) function has 3 variables: start, stop, step\n",
    "- start: where the list starts, default is 0\n",
    "- stop: where the list stops\n",
    "- step: increment. For example, starts at 0, increment by 3. Default increment is 1"
   ]
  },
  {
   "cell_type": "code",
   "execution_count": 78,
   "id": "8f9906a6",
   "metadata": {},
   "outputs": [
    {
     "data": {
      "text/plain": [
       "[0,\n",
       " 2,\n",
       " 4,\n",
       " 6,\n",
       " 8,\n",
       " 10,\n",
       " 12,\n",
       " 14,\n",
       " 16,\n",
       " 18,\n",
       " 20,\n",
       " 22,\n",
       " 24,\n",
       " 26,\n",
       " 28,\n",
       " 30,\n",
       " 32,\n",
       " 34,\n",
       " 36,\n",
       " 38,\n",
       " 40,\n",
       " 42,\n",
       " 44,\n",
       " 46,\n",
       " 48]"
      ]
     },
     "execution_count": 78,
     "metadata": {},
     "output_type": "execute_result"
    }
   ],
   "source": [
    "list(range(0,50,2))"
   ]
  }
 ],
 "metadata": {
  "kernelspec": {
   "display_name": "Python 3 (ipykernel)",
   "language": "python",
   "name": "python3"
  },
  "language_info": {
   "codemirror_mode": {
    "name": "ipython",
    "version": 3
   },
   "file_extension": ".py",
   "mimetype": "text/x-python",
   "name": "python",
   "nbconvert_exporter": "python",
   "pygments_lexer": "ipython3",
   "version": "3.9.13"
  }
 },
 "nbformat": 4,
 "nbformat_minor": 5
}
