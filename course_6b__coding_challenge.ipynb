{
 "cells": [
  {
   "cell_type": "markdown",
   "id": "c3600c41",
   "metadata": {},
   "source": [
    "Coding task: Given the string \"I met an interesting turtle while the song on the radio blasted away.\", compute the list of words that are longer than 5 characters: [\"interesting\", \"turtle\", ... \"blasted\"]. \n",
    "\n",
    "Tip: [this function](https://docs.python.org/3/library/stdtypes.html#str.split) may be useful.\n",
    "- Solve it with a for loop.\n",
    "- Solve it with a list comprehension.\n"
   ]
  },
  {
   "cell_type": "code",
   "execution_count": 5,
   "id": "a566aaa5",
   "metadata": {},
   "outputs": [
    {
     "data": {
      "text/plain": [
       "['interesting', 'turtle', 'blasted']"
      ]
     },
     "execution_count": 5,
     "metadata": {},
     "output_type": "execute_result"
    }
   ],
   "source": [
    "sentence = \"I met an interesting turtle while the song on the radio blasted away.\"\n",
    "words = sentence.split(' ')\n",
    "[word for word in words if len(word) > 5]"
   ]
  },
  {
   "cell_type": "code",
   "execution_count": null,
   "id": "47c544c6",
   "metadata": {},
   "outputs": [],
   "source": []
  }
 ],
 "metadata": {
  "kernelspec": {
   "display_name": "Python 3 (ipykernel)",
   "language": "python",
   "name": "python3"
  },
  "language_info": {
   "codemirror_mode": {
    "name": "ipython",
    "version": 3
   },
   "file_extension": ".py",
   "mimetype": "text/x-python",
   "name": "python",
   "nbconvert_exporter": "python",
   "pygments_lexer": "ipython3",
   "version": "3.9.13"
  }
 },
 "nbformat": 4,
 "nbformat_minor": 5
}
