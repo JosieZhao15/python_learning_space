{
 "cells": [
  {
   "cell_type": "markdown",
   "id": "3ef2d725",
   "metadata": {},
   "source": [
    "**Coding Tasks**\n",
    "\n",
    "____________________________________________\n",
    "\n",
    "**Task No.1 - Write the code to print out all the odd numbers from 1 to 19 (1, 3, 5, ... 19)**"
   ]
  },
  {
   "cell_type": "code",
   "execution_count": 1,
   "id": "660f3b80",
   "metadata": {},
   "outputs": [
    {
     "data": {
      "text/plain": [
       "[1, 3, 5, 7, 9, 11, 13, 15, 17, 19]"
      ]
     },
     "execution_count": 1,
     "metadata": {},
     "output_type": "execute_result"
    }
   ],
   "source": [
    "list(range(1,20,2))"
   ]
  },
  {
   "cell_type": "markdown",
   "id": "d2ab0df3",
   "metadata": {},
   "source": [
    "**Task No.2 - Write the code to print out a countdown from 10 to 1 (10, 9, 8, ... 1)**"
   ]
  },
  {
   "cell_type": "code",
   "execution_count": 3,
   "id": "185a4ddb",
   "metadata": {},
   "outputs": [
    {
     "name": "stdout",
     "output_type": "stream",
     "text": [
      "10\n",
      "9\n",
      "8\n",
      "7\n",
      "6\n",
      "5\n",
      "4\n",
      "3\n",
      "2\n",
      "1\n"
     ]
    }
   ],
   "source": [
    "countdown = 10\n",
    "\n",
    "while countdown > 0:\n",
    "    print(countdown)\n",
    "    countdown = countdown - 1"
   ]
  },
  {
   "cell_type": "markdown",
   "id": "fa77cfa0",
   "metadata": {},
   "source": [
    "**Task No.3 - Write the code to print out \"forest\" 5 times.**"
   ]
  },
  {
   "cell_type": "code",
   "execution_count": 4,
   "id": "477ed316",
   "metadata": {},
   "outputs": [
    {
     "name": "stdout",
     "output_type": "stream",
     "text": [
      "forestforestforestforestforest\n"
     ]
    }
   ],
   "source": [
    "print('forest'*5)"
   ]
  },
  {
   "cell_type": "code",
   "execution_count": 7,
   "id": "3168feed",
   "metadata": {},
   "outputs": [
    {
     "name": "stdout",
     "output_type": "stream",
     "text": [
      "forest\n",
      "forest\n",
      "forest\n",
      "forest\n",
      "forest\n"
     ]
    }
   ],
   "source": [
    "for forest in range(5):\n",
    "    print('forest')"
   ]
  },
  {
   "cell_type": "markdown",
   "id": "7ffc0c7a",
   "metadata": {},
   "source": [
    "**Task No. 4 - Write the code to print out this multiplication table:**\n",
    "\n",
    "1*9 = 9\n",
    "\n",
    "2*9 = 18\n",
    "\n",
    "...\n",
    "\n",
    "9*9 = 81"
   ]
  },
  {
   "cell_type": "code",
   "execution_count": 9,
   "id": "6fbbbc38",
   "metadata": {},
   "outputs": [
    {
     "name": "stdout",
     "output_type": "stream",
     "text": [
      "1 * 9 = 9\n",
      "2 * 9 = 18\n",
      "3 * 9 = 27\n",
      "4 * 9 = 36\n",
      "5 * 9 = 45\n",
      "6 * 9 = 54\n",
      "7 * 9 = 63\n",
      "8 * 9 = 72\n",
      "9 * 9 = 81\n"
     ]
    }
   ],
   "source": [
    "for multiplication in range(1,10):\n",
    "    print(multiplication, '* 9 =', multiplication*9)"
   ]
  },
  {
   "cell_type": "markdown",
   "id": "a79bf6cd",
   "metadata": {},
   "source": [
    "**Task No.5 - Write the code to print out all multiplication tables from 1 to 9**"
   ]
  },
  {
   "cell_type": "code",
   "execution_count": 73,
   "id": "faabacdf",
   "metadata": {},
   "outputs": [
    {
     "name": "stdout",
     "output_type": "stream",
     "text": [
      "Multiplication table for 1\n",
      "1 * 1 = 1\n",
      "1 * 2 = 2\n",
      "1 * 3 = 3\n",
      "1 * 4 = 4\n",
      "1 * 5 = 5\n",
      "1 * 6 = 6\n",
      "1 * 7 = 7\n",
      "1 * 8 = 8\n",
      "1 * 9 = 9\n",
      "Multiplication table for 2\n",
      "2 * 1 = 2\n",
      "2 * 2 = 4\n",
      "2 * 3 = 6\n",
      "2 * 4 = 8\n",
      "2 * 5 = 10\n",
      "2 * 6 = 12\n",
      "2 * 7 = 14\n",
      "2 * 8 = 16\n",
      "2 * 9 = 18\n",
      "Multiplication table for 3\n",
      "3 * 1 = 3\n",
      "3 * 2 = 6\n",
      "3 * 3 = 9\n",
      "3 * 4 = 12\n",
      "3 * 5 = 15\n",
      "3 * 6 = 18\n",
      "3 * 7 = 21\n",
      "3 * 8 = 24\n",
      "3 * 9 = 27\n",
      "Multiplication table for 4\n",
      "4 * 1 = 4\n",
      "4 * 2 = 8\n",
      "4 * 3 = 12\n",
      "4 * 4 = 16\n",
      "4 * 5 = 20\n",
      "4 * 6 = 24\n",
      "4 * 7 = 28\n",
      "4 * 8 = 32\n",
      "4 * 9 = 36\n",
      "Multiplication table for 5\n",
      "5 * 1 = 5\n",
      "5 * 2 = 10\n",
      "5 * 3 = 15\n",
      "5 * 4 = 20\n",
      "5 * 5 = 25\n",
      "5 * 6 = 30\n",
      "5 * 7 = 35\n",
      "5 * 8 = 40\n",
      "5 * 9 = 45\n",
      "Multiplication table for 6\n",
      "6 * 1 = 6\n",
      "6 * 2 = 12\n",
      "6 * 3 = 18\n",
      "6 * 4 = 24\n",
      "6 * 5 = 30\n",
      "6 * 6 = 36\n",
      "6 * 7 = 42\n",
      "6 * 8 = 48\n",
      "6 * 9 = 54\n",
      "Multiplication table for 7\n",
      "7 * 1 = 7\n",
      "7 * 2 = 14\n",
      "7 * 3 = 21\n",
      "7 * 4 = 28\n",
      "7 * 5 = 35\n",
      "7 * 6 = 42\n",
      "7 * 7 = 49\n",
      "7 * 8 = 56\n",
      "7 * 9 = 63\n",
      "Multiplication table for 8\n",
      "8 * 1 = 8\n",
      "8 * 2 = 16\n",
      "8 * 3 = 24\n",
      "8 * 4 = 32\n",
      "8 * 5 = 40\n",
      "8 * 6 = 48\n",
      "8 * 7 = 56\n",
      "8 * 8 = 64\n",
      "8 * 9 = 72\n",
      "Multiplication table for 9\n",
      "9 * 1 = 9\n",
      "9 * 2 = 18\n",
      "9 * 3 = 27\n",
      "9 * 4 = 36\n",
      "9 * 5 = 45\n",
      "9 * 6 = 54\n",
      "9 * 7 = 63\n",
      "9 * 8 = 72\n",
      "9 * 9 = 81\n"
     ]
    }
   ],
   "source": [
    "for multiplications in range(1,10):\n",
    "    print('Multiplication table for', multiplications)\n",
    "    for compute in range(1,10):\n",
    "        print(multiplications, '*', compute, '=', compute*multiplications)\n",
    "        #using nested sub for loop"
   ]
  },
  {
   "cell_type": "markdown",
   "id": "d588c7d5",
   "metadata": {},
   "source": [
    "**Task No.6 - Write the code to calculate the result of 1 x 2 x 3 x ... x 9 x 10.**\n"
   ]
  },
  {
   "cell_type": "code",
   "execution_count": 95,
   "id": "65a7780d",
   "metadata": {},
   "outputs": [
    {
     "name": "stdout",
     "output_type": "stream",
     "text": [
      "3628800\n"
     ]
    }
   ],
   "source": [
    "#using Traversal https://www.tutorialspoint.com/python_data_structure/python_tree_traversal_algorithms.htm\n",
    "def multiplyList(compute_list):\n",
    "    result = 1\n",
    "    for numbers in compute_list:\n",
    "        result = result * numbers\n",
    "    return result\n",
    "\n",
    "my_list = [1,2,3,4,5,6,7,8,9,10]\n",
    "print(multiplyList(my_list))"
   ]
  },
  {
   "cell_type": "markdown",
   "id": "d57f4c41",
   "metadata": {},
   "source": [
    "**Task No.7 - Write the code to calculate the total length of this list of strings [\"python\", \"is\", \"fun\"]. Total length is defined by the sum of the length of each string in the list. It should return 11.**\n"
   ]
  },
  {
   "cell_type": "code",
   "execution_count": 92,
   "id": "881e92b6",
   "metadata": {},
   "outputs": [
    {
     "data": {
      "text/plain": [
       "11"
      ]
     },
     "execution_count": 92,
     "metadata": {},
     "output_type": "execute_result"
    }
   ],
   "source": [
    "strings = \"python\"+\"is\"+\"fun\"\n",
    "len(strings)"
   ]
  },
  {
   "cell_type": "markdown",
   "id": "3c2fd369",
   "metadata": {},
   "source": [
    "**Task No.8 - Given the list of strings ['fairy', 'kitchen', 'reach', 'cower', 'drama', 'negligence', 'rank', 'mess', 'injection', 'brink'], write the code to print out only the words that contain the letter a.**\n"
   ]
  },
  {
   "cell_type": "code",
   "execution_count": 94,
   "id": "a294ec17",
   "metadata": {},
   "outputs": [
    {
     "name": "stdout",
     "output_type": "stream",
     "text": [
      "['fairy', 'kitchen', 'reach', 'cower', 'drama', 'negligence', 'rank', 'mess', 'injection', 'brink']\n"
     ]
    }
   ],
   "source": [
    "words = ['fairy', 'kitchen', 'reach', 'cower', 'drama', 'negligence', 'rank', 'mess', 'injection', 'brink']\n",
    "\n",
    "for searchWords in words:\n",
    "    while "
   ]
  },
  {
   "cell_type": "code",
   "execution_count": null,
   "id": "4dce7774",
   "metadata": {},
   "outputs": [],
   "source": []
  }
 ],
 "metadata": {
  "kernelspec": {
   "display_name": "Python 3 (ipykernel)",
   "language": "python",
   "name": "python3"
  },
  "language_info": {
   "codemirror_mode": {
    "name": "ipython",
    "version": 3
   },
   "file_extension": ".py",
   "mimetype": "text/x-python",
   "name": "python",
   "nbconvert_exporter": "python",
   "pygments_lexer": "ipython3",
   "version": "3.9.13"
  }
 },
 "nbformat": 4,
 "nbformat_minor": 5
}
