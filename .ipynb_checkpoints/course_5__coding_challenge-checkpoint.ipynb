{
 "cells": [
  {
   "cell_type": "markdown",
   "id": "923c2d58",
   "metadata": {},
   "source": [
    "_____________________________________________\n",
    "\n",
    "***Coding Tasks***"
   ]
  },
  {
   "cell_type": "markdown",
   "id": "207c79e1",
   "metadata": {},
   "source": [
    "Task No.1\n",
    "\n",
    "Write the code to print out all the odd numbers from 1 to 19 (1, 3, 5, ... 19)"
   ]
  },
  {
   "cell_type": "code",
   "execution_count": 19,
   "id": "5e4eda41",
   "metadata": {},
   "outputs": [],
   "source": [
    "numbers = list(range(0,20))\n",
    "for odd_numbers in numbers.copy():\n",
    "    if odd_numbers%2 == 0:\n",
    "        del odd_numbers"
   ]
  },
  {
   "cell_type": "code",
   "execution_count": 20,
   "id": "8623f82c",
   "metadata": {},
   "outputs": [
    {
     "data": {
      "text/plain": [
       "19"
      ]
     },
     "execution_count": 20,
     "metadata": {},
     "output_type": "execute_result"
    }
   ],
   "source": [
    "odd_numbers"
   ]
  },
  {
   "cell_type": "code",
   "execution_count": 21,
   "id": "5e8afed5",
   "metadata": {},
   "outputs": [
    {
     "data": {
      "text/plain": [
       "[1, 3, 5, 7, 9, 11, 13, 15, 17, 19]"
      ]
     },
     "execution_count": 21,
     "metadata": {},
     "output_type": "execute_result"
    }
   ],
   "source": [
    "list(range(1,20,2))"
   ]
  },
  {
   "cell_type": "code",
   "execution_count": null,
   "id": "4c24db87",
   "metadata": {},
   "outputs": [],
   "source": []
  }
 ],
 "metadata": {
  "kernelspec": {
   "display_name": "Python 3 (ipykernel)",
   "language": "python",
   "name": "python3"
  },
  "language_info": {
   "codemirror_mode": {
    "name": "ipython",
    "version": 3
   },
   "file_extension": ".py",
   "mimetype": "text/x-python",
   "name": "python",
   "nbconvert_exporter": "python",
   "pygments_lexer": "ipython3",
   "version": "3.9.13"
  }
 },
 "nbformat": 4,
 "nbformat_minor": 5
}
