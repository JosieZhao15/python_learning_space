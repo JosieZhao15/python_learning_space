{
 "cells": [
  {
   "cell_type": "markdown",
   "id": "96c3f371",
   "metadata": {},
   "source": [
    "**Coding Tasks**\n",
    "____________________________________________\n",
    "\n",
    "**Task No.1 - Write the code to print out all the odd numbers from 1 to 19 (1, 3, 5, ... 19)**"
   ]
  },
  {
   "cell_type": "code",
   "execution_count": 1,
   "id": "d0d135d1",
   "metadata": {},
   "outputs": [
    {
     "data": {
      "text/plain": [
       "[1, 3, 5, 7, 9, 11, 13, 15, 17, 19]"
      ]
     },
     "execution_count": 1,
     "metadata": {},
     "output_type": "execute_result"
    }
   ],
   "source": [
    "list(range(1,20,2))"
   ]
  },
  {
   "cell_type": "markdown",
   "id": "18b5c2fc",
   "metadata": {},
   "source": [
    "**Task No.2 - Write the code to print out a countdown from 10 to 1 (10, 9, 8, ... 1)**"
   ]
  },
  {
   "cell_type": "code",
   "execution_count": 3,
   "id": "539daea8",
   "metadata": {},
   "outputs": [
    {
     "name": "stdout",
     "output_type": "stream",
     "text": [
      "10\n",
      "9\n",
      "8\n",
      "7\n",
      "6\n",
      "5\n",
      "4\n",
      "3\n",
      "2\n",
      "1\n"
     ]
    }
   ],
   "source": [
    "countdown = 10\n",
    "\n",
    "while countdown > 0:\n",
    "    print(countdown)\n",
    "    countdown = countdown - 1"
   ]
  },
  {
   "cell_type": "markdown",
   "id": "2e7ee662",
   "metadata": {},
   "source": [
    "**Task No.3 - Write the code to print out \"forest\" 5 times.**"
   ]
  },
  {
   "cell_type": "code",
   "execution_count": 4,
   "id": "d8ab3ec4",
   "metadata": {},
   "outputs": [
    {
     "name": "stdout",
     "output_type": "stream",
     "text": [
      "forestforestforestforestforest\n"
     ]
    }
   ],
   "source": [
    "print('forest'*5)"
   ]
  },
  {
   "cell_type": "code",
   "execution_count": 7,
   "id": "ede1c9fd",
   "metadata": {},
   "outputs": [
    {
     "name": "stdout",
     "output_type": "stream",
     "text": [
      "forest\n",
      "forest\n",
      "forest\n",
      "forest\n",
      "forest\n"
     ]
    }
   ],
   "source": [
    "for forest in range(5):\n",
    "    print('forest')"
   ]
  },
  {
   "cell_type": "markdown",
   "id": "20736c5b",
   "metadata": {},
   "source": [
    "**Task No. 4 - Write the code to print out this multiplication table:**\n",
    "\n",
    "1*9 = 9\n",
    "\n",
    "2*9 = 18\n",
    "\n",
    "...\n",
    "\n",
    "9*9 = 81"
   ]
  },
  {
   "cell_type": "code",
   "execution_count": 9,
   "id": "1596115a",
   "metadata": {},
   "outputs": [
    {
     "name": "stdout",
     "output_type": "stream",
     "text": [
      "1 * 9 = 9\n",
      "2 * 9 = 18\n",
      "3 * 9 = 27\n",
      "4 * 9 = 36\n",
      "5 * 9 = 45\n",
      "6 * 9 = 54\n",
      "7 * 9 = 63\n",
      "8 * 9 = 72\n",
      "9 * 9 = 81\n"
     ]
    }
   ],
   "source": [
    "for multiplication in range(1,10):\n",
    "    print(multiplication, '* 9 =', multiplication*9)"
   ]
  },
  {
   "cell_type": "markdown",
   "id": "e0b6a318",
   "metadata": {},
   "source": [
    "**Task No.5 - Write the code to print out all multiplication tables from 1 to 9**"
   ]
  },
  {
   "cell_type": "code",
   "execution_count": 17,
   "id": "2e624893",
   "metadata": {},
   "outputs": [
    {
     "name": "stdout",
     "output_type": "stream",
     "text": [
      "Multiplication table for 1 1 * 1 = 1\n",
      "Multiplication table for 2 2 * 2 = 4\n",
      "Multiplication table for 3 3 * 3 = 9\n",
      "Multiplication table for 4 4 * 4 = 16\n",
      "Multiplication table for 5 5 * 5 = 25\n",
      "Multiplication table for 6 6 * 6 = 36\n",
      "Multiplication table for 7 7 * 7 = 49\n",
      "Multiplication table for 8 8 * 8 = 64\n",
      "Multiplication table for 9 9 * 9 = 81\n"
     ]
    }
   ],
   "source": [
    "for multiplications in range(1,10):\n",
    "    print(\n",
    "        'Multiplication table for', multiplications,\n",
    "        multiplications, '*', multiplications, '=', multiplications * multiplications\n",
    "    )"
   ]
  },
  {
   "cell_type": "code",
   "execution_count": null,
   "id": "154add72",
   "metadata": {},
   "outputs": [],
   "source": []
  }
 ],
 "metadata": {
  "kernelspec": {
   "display_name": "Python 3 (ipykernel)",
   "language": "python",
   "name": "python3"
  },
  "language_info": {
   "codemirror_mode": {
    "name": "ipython",
    "version": 3
   },
   "file_extension": ".py",
   "mimetype": "text/x-python",
   "name": "python",
   "nbconvert_exporter": "python",
   "pygments_lexer": "ipython3",
   "version": "3.9.13"
  }
 },
 "nbformat": 4,
 "nbformat_minor": 5
}
