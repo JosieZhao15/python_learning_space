{
 "cells": [
  {
   "cell_type": "markdown",
   "id": "5d6a52ab",
   "metadata": {},
   "source": [
    "initial test"
   ]
  },
  {
   "cell_type": "code",
   "execution_count": 4,
   "id": "a6f4a953",
   "metadata": {},
   "outputs": [],
   "source": [
    "name = 'JZ'"
   ]
  },
  {
   "cell_type": "code",
   "execution_count": 5,
   "id": "877e42f6",
   "metadata": {},
   "outputs": [
    {
     "name": "stdout",
     "output_type": "stream",
     "text": [
      "Hello! My name is JZ, this is my first Jupyter Notebook page.\n"
     ]
    }
   ],
   "source": [
    "print(f\"Hello! My name is {name}, this is my first Jupyter Notebook page.\")"
   ]
  }
 ],
 "metadata": {
  "kernelspec": {
   "display_name": "Python 3 (ipykernel)",
   "language": "python",
   "name": "python3"
  },
  "language_info": {
   "codemirror_mode": {
    "name": "ipython",
    "version": 3
   },
   "file_extension": ".py",
   "mimetype": "text/x-python",
   "name": "python",
   "nbconvert_exporter": "python",
   "pygments_lexer": "ipython3",
   "version": "3.9.13"
  }
 },
 "nbformat": 4,
 "nbformat_minor": 5
}
