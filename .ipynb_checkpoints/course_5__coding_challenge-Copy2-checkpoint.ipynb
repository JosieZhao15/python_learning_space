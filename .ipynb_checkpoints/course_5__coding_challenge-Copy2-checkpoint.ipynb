{
 "cells": [
  {
   "cell_type": "markdown",
   "id": "9457bb19",
   "metadata": {},
   "source": [
    "_____________________________________________\n",
    "\n",
    "***Coding Tasks***"
   ]
  },
  {
   "cell_type": "markdown",
   "id": "d322c41b",
   "metadata": {},
   "source": [
    "Task No.1\n",
    "\n",
    "Write the code to print out all the odd numbers from 1 to 19 (1, 3, 5, ... 19)"
   ]
  },
  {
   "cell_type": "code",
   "execution_count": 3,
   "id": "fef698d8",
   "metadata": {},
   "outputs": [
    {
     "data": {
      "text/plain": [
       "[1, 3, 5, 7, 9, 11, 13, 15, 17, 19]"
      ]
     },
     "execution_count": 3,
     "metadata": {},
     "output_type": "execute_result"
    }
   ],
   "source": [
    "#numbers = list(range(0,20))\n",
    "#for odd_numbers in numbers.copy():\n",
    "#    if odd_numbers%2 == 0:\n",
    "#        del odd_numbers\n",
    "\n",
    "list(range(1,20,2))"
   ]
  },
  {
   "cell_type": "markdown",
   "id": "0ace2f4b",
   "metadata": {},
   "source": [
    "Task No.2\n",
    "\n",
    "Write the code to print out a countdown from 10 to 1 (10, 9, 8, ... 1)"
   ]
  },
  {
   "cell_type": "code",
   "execution_count": 8,
   "id": "870a579d",
   "metadata": {},
   "outputs": [
    {
     "name": "stdout",
     "output_type": "stream",
     "text": [
      "10\n",
      "9\n",
      "8\n",
      "7\n",
      "6\n",
      "5\n",
      "4\n",
      "3\n",
      "2\n",
      "1\n"
     ]
    }
   ],
   "source": [
    "countdown = 10\n",
    "\n",
    "while countdown > 0:\n",
    "    print(countdown)\n",
    "    countdown = countdown - 1"
   ]
  },
  {
   "cell_type": "markdown",
   "id": "cb39ebc1",
   "metadata": {},
   "source": [
    "Task No.3\n",
    "\n",
    "Write the code to print out \"forest\" 5 times."
   ]
  },
  {
   "cell_type": "code",
   "execution_count": 4,
   "id": "d9be4780",
   "metadata": {},
   "outputs": [
    {
     "name": "stdout",
     "output_type": "stream",
     "text": [
      "forestforestforestforestforest\n"
     ]
    }
   ],
   "source": [
    "print(\"forest\" * 5)"
   ]
  },
  {
   "cell_type": "markdown",
   "id": "85f86e44",
   "metadata": {},
   "source": [
    "Task No. 4\n",
    "\n",
    "Write the code to print out this multiplication table: \n",
    "\n",
    "1*9 = 9\n",
    "\n",
    "2*9 = 18\n",
    "\n",
    "...\n",
    "\n",
    "9*9 = 81\n"
   ]
  },
  {
   "cell_type": "code",
   "execution_count": 18,
   "id": "75908cae",
   "metadata": {},
   "outputs": [
    {
     "name": "stdout",
     "output_type": "stream",
     "text": [
      "1 * 9 = 9\n",
      "2 * 9 = 18\n",
      "3 * 9 = 27\n",
      "4 * 9 = 36\n",
      "5 * 9 = 45\n",
      "6 * 9 = 54\n",
      "7 * 9 = 63\n",
      "8 * 9 = 72\n",
      "9 * 9 = 81\n"
     ]
    }
   ],
   "source": [
    "multiplication = list(range(1,10))\n",
    "for compute in multiplication:\n",
    "    print(compute, '* 9 =', compute * 9)"
   ]
  }
 ],
 "metadata": {
  "kernelspec": {
   "display_name": "Python 3 (ipykernel)",
   "language": "python",
   "name": "python3"
  },
  "language_info": {
   "codemirror_mode": {
    "name": "ipython",
    "version": 3
   },
   "file_extension": ".py",
   "mimetype": "text/x-python",
   "name": "python",
   "nbconvert_exporter": "python",
   "pygments_lexer": "ipython3",
   "version": "3.9.13"
  }
 },
 "nbformat": 4,
 "nbformat_minor": 5
}
