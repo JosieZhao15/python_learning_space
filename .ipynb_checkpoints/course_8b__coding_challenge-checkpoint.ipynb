{
 "cells": [
  {
   "cell_type": "markdown",
   "id": "3553434b",
   "metadata": {},
   "source": [
    "Make a program that:\n",
    "- Asks the user to type the name of a city.\n",
    "- If the name of the city is \"seoul\", \"busan\" or \"jeju\", print out \"[city name] is in Korea!\".\n",
    "- If the name of the city is \"paris\", \"nice\", \"marseille\", \"bordeaux\", or \"toulouse\", print out \"[city name] is in France!\".\n",
    "- If it is anything else, print out \"[city name]? I do not know where that is!\"\n"
   ]
  },
  {
   "cell_type": "code",
   "execution_count": null,
   "id": "bfcc41d1",
   "metadata": {},
   "outputs": [],
   "source": []
  }
 ],
 "metadata": {
  "kernelspec": {
   "display_name": "Python 3 (ipykernel)",
   "language": "python",
   "name": "python3"
  },
  "language_info": {
   "codemirror_mode": {
    "name": "ipython",
    "version": 3
   },
   "file_extension": ".py",
   "mimetype": "text/x-python",
   "name": "python",
   "nbconvert_exporter": "python",
   "pygments_lexer": "ipython3",
   "version": "3.9.13"
  }
 },
 "nbformat": 4,
 "nbformat_minor": 5
}
