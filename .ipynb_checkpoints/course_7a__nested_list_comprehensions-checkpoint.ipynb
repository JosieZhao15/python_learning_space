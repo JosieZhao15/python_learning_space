{
 "cells": [
  {
   "cell_type": "markdown",
   "id": "b8ce91ea",
   "metadata": {},
   "source": [
    "Learning source: https://docs.python.org/3/tutorial/datastructures.html#nested-list-comprehensions\n",
    "\n",
    "The following learnings are using section 5.1.4.\n",
    "_________________________________________________________________"
   ]
  },
  {
   "cell_type": "markdown",
   "id": "c84413ac",
   "metadata": {},
   "source": [
    "The initial expression in a list comprehension can be any arbitrary expression, including another list comprehension.\n",
    "\n",
    "Consider the following example of a 3x4 matrix implemented as a list of 3 lists of length 4:"
   ]
  },
  {
   "cell_type": "code",
   "execution_count": 8,
   "id": "d1e68171",
   "metadata": {},
   "outputs": [
    {
     "data": {
      "text/plain": [
       "[[1, 5, 9], [2, 6, 10], [3, 7, 11], [4, 8, 12]]"
      ]
     },
     "execution_count": 8,
     "metadata": {},
     "output_type": "execute_result"
    }
   ],
   "source": [
    "matrix = [\n",
    "    [1,2,3,4],\n",
    "    [5,6,7,8],\n",
    "    [9,10,11,12]\n",
    "]\n",
    "\n",
    "#The following list comprehension will transpose rows and columns:\n",
    "[[row[i] for row in matrix] for i in range(4)]\n",
    "#❗I don't understand what is row[i]"
   ]
  },
  {
   "cell_type": "markdown",
   "id": "43bf6efb",
   "metadata": {},
   "source": [
    "As we saw in the previous section, the inner list comprehension is evaluated in the context of the for that follows it, so this example is equivalent to:"
   ]
  },
  {
   "cell_type": "code",
   "execution_count": 12,
   "id": "16797a00",
   "metadata": {},
   "outputs": [
    {
     "name": "stdout",
     "output_type": "stream",
     "text": [
      "[[1, 5, 9]]\n",
      "[[1, 5, 9], [2, 6, 10]]\n",
      "[[1, 5, 9], [2, 6, 10], [3, 7, 11]]\n",
      "[[1, 5, 9], [2, 6, 10], [3, 7, 11], [4, 8, 12]]\n"
     ]
    }
   ],
   "source": [
    "transposed = []\n",
    "for i in range(4):\n",
    "    transposed.append([row[i] for row in matrix])\n",
    "    print(transposed)"
   ]
  },
  {
   "cell_type": "markdown",
   "id": "8e679b59",
   "metadata": {},
   "source": [
    "which, in turn, is the same as:"
   ]
  },
  {
   "cell_type": "code",
   "execution_count": 22,
   "id": "f68c9fa7",
   "metadata": {},
   "outputs": [
    {
     "data": {
      "text/plain": [
       "[[1, 5, 9], [2, 6, 10], [3, 7, 11], [4, 8, 12]]"
      ]
     },
     "execution_count": 22,
     "metadata": {},
     "output_type": "execute_result"
    }
   ],
   "source": [
    "transposed = []\n",
    "for i in range(4):\n",
    "    transposed_row = []\n",
    "    for row in matrix:\n",
    "        transposed_row.append(row[i])\n",
    "    transposed.append(transposed_row)\n",
    "\n",
    "\n",
    "transposed"
   ]
  },
  {
   "cell_type": "markdown",
   "id": "becbe6d0",
   "metadata": {},
   "source": [
    "`row[]` expression is explained here: https://pythonhosted.org/trustedanalytics/ds_apir.html#:~:text=The%20Row%20object%20is%20a,shown%20in%20the%20example%20above.\n",
    "\n",
    "The Row object is a read-only dictionary-like structure which contains the cell values for a particular row. The values are accessible using the column name, with typical Python square bracket lookup, as shown in the example above. The value of cell in column ‘score’ is accessed like this: `row['score']`"
   ]
  },
  {
   "cell_type": "markdown",
   "id": "ef8e87d2",
   "metadata": {},
   "source": [
    "____________________________________________________________\n",
    "\n",
    "In the real world, you should prefer built-in functions to complex flow statements. The [zip() function](https://docs.python.org/3/library/functions.html#zip) would do a great job for this use case:"
   ]
  },
  {
   "cell_type": "code",
   "execution_count": 24,
   "id": "e9bbb094",
   "metadata": {},
   "outputs": [
    {
     "data": {
      "text/plain": [
       "[(1, 5, 9), (2, 6, 10), (3, 7, 11), (4, 8, 12)]"
      ]
     },
     "execution_count": 24,
     "metadata": {},
     "output_type": "execute_result"
    }
   ],
   "source": [
    "list(zip(*matrix))"
   ]
  },
  {
   "cell_type": "code",
   "execution_count": null,
   "id": "2dc9b38b",
   "metadata": {},
   "outputs": [],
   "source": []
  }
 ],
 "metadata": {
  "kernelspec": {
   "display_name": "Python 3 (ipykernel)",
   "language": "python",
   "name": "python3"
  },
  "language_info": {
   "codemirror_mode": {
    "name": "ipython",
    "version": 3
   },
   "file_extension": ".py",
   "mimetype": "text/x-python",
   "name": "python",
   "nbconvert_exporter": "python",
   "pygments_lexer": "ipython3",
   "version": "3.9.13"
  }
 },
 "nbformat": 4,
 "nbformat_minor": 5
}
