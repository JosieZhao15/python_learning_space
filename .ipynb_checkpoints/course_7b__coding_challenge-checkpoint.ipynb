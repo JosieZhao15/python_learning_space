{
 "cells": [
  {
   "cell_type": "markdown",
   "id": "b8626237",
   "metadata": {},
   "source": [
    "A Matrix is a list of list of elements. For example, [[0, 1, 2], [3, 4, 5]] is a 2x3 matrix (2 rows, 3 columns):"
   ]
  },
  {
   "cell_type": "code",
   "execution_count": 4,
   "id": "b3ca83a3",
   "metadata": {},
   "outputs": [
    {
     "name": "stdout",
     "output_type": "stream",
     "text": [
      "Matrix:\n",
      " +---+---+---+\n",
      " | 0 | 1 | 2 | \n",
      " +---+---+---+\n",
      " | 3 | 4 | 5 | \n",
      " +---+---+---+\n",
      "\n"
     ]
    }
   ],
   "source": [
    " print( 'Matrix:' '''\n",
    "  +---+---+---+\n",
    "  | 0 | 1 | 2 | \n",
    "  +---+---+---+\n",
    "  | 3 | 4 | 5 | \n",
    "  +---+---+---+\n",
    "''')"
   ]
  },
  {
   "cell_type": "markdown",
   "id": "7f83509a",
   "metadata": {},
   "source": [
    "**Task No.1**\n",
    "\n",
    "Given the 3x4 matrix m = [[3, 6, 7, 8], [6, 9, 23, 6], [15, 57, 23, 6]], compute the sum of each row (for the first row, 3 + 6 + 15 = 24) and return the list [24, 44, 101]. It is a list of 3 elements, each element being the sum of one of the rows.\n",
    "Solve it anyway you like. With a for loop or list comprehension.\n",
    "Once it works, try a few other ways to clean up your code.\n"
   ]
  },
  {
   "cell_type": "code",
   "execution_count": 43,
   "id": "c161d7de",
   "metadata": {},
   "outputs": [],
   "source": [
    "m = [\n",
    "    [3, 6, 7, 8], \n",
    "    [6, 9, 23, 6], \n",
    "    [15, 57, 23, 6]\n",
    "]"
   ]
  },
  {
   "cell_type": "code",
   "execution_count": 75,
   "id": "a5bc231e",
   "metadata": {},
   "outputs": [
    {
     "name": "stdout",
     "output_type": "stream",
     "text": [
      "24\n",
      "44\n",
      "101\n"
     ]
    }
   ],
   "source": [
    "#Solution using sum() in a for loop\n",
    "for num_ls in m:\n",
    "    print(sum(num_ls))"
   ]
  },
  {
   "cell_type": "code",
   "execution_count": 74,
   "id": "080b4fdd",
   "metadata": {},
   "outputs": [
    {
     "data": {
      "text/plain": [
       "[24, 44, 101]"
      ]
     },
     "execution_count": 74,
     "metadata": {},
     "output_type": "execute_result"
    }
   ],
   "source": [
    "#Solution using list comprehension\n",
    "[sum(num_ls) for num_ls in m]"
   ]
  },
  {
   "cell_type": "markdown",
   "id": "ad35b584",
   "metadata": {},
   "source": [
    "**Task No.2**\n",
    "\n",
    "Given the same matrix, compute the sum of each column and return the list [24, 72, 53, 20]. For the first column, 3 + 6 + 15 = 24."
   ]
  },
  {
   "cell_type": "code",
   "execution_count": null,
   "id": "24f090b8",
   "metadata": {},
   "outputs": [],
   "source": []
  },
  {
   "cell_type": "code",
   "execution_count": null,
   "id": "a74f099a",
   "metadata": {},
   "outputs": [],
   "source": []
  }
 ],
 "metadata": {
  "kernelspec": {
   "display_name": "Python 3 (ipykernel)",
   "language": "python",
   "name": "python3"
  },
  "language_info": {
   "codemirror_mode": {
    "name": "ipython",
    "version": 3
   },
   "file_extension": ".py",
   "mimetype": "text/x-python",
   "name": "python",
   "nbconvert_exporter": "python",
   "pygments_lexer": "ipython3",
   "version": "3.9.13"
  }
 },
 "nbformat": 4,
 "nbformat_minor": 5
}
