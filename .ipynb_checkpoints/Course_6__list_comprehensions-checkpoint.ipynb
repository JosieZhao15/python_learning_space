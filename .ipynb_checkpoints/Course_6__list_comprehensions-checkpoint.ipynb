{
 "cells": [
  {
   "cell_type": "markdown",
   "id": "a599582e",
   "metadata": {},
   "source": [
    "Learning resource: https://docs.python.org/3/tutorial/datastructures.html#list-comprehensions\n",
    "\n",
    "The following learnings are using section 5.1.3.\n",
    "_________________________________________________________________"
   ]
  },
  {
   "cell_type": "markdown",
   "id": "29ae93d8",
   "metadata": {},
   "source": [
    "List comprehensions provide a concise way to create lists. Common applications are to make new lists where each element is the result of some operations applied to each member of another sequence or iterable, or to create a subsequence of those elements that satisfy a certain condition.\n",
    "\n",
    "For example, assume we want to create a list of squares, like:"
   ]
  },
  {
   "cell_type": "code",
   "execution_count": 23,
   "id": "7c4301cf",
   "metadata": {},
   "outputs": [
    {
     "name": "stdout",
     "output_type": "stream",
     "text": [
      "[0]\n",
      "[0, 1]\n",
      "[0, 1, 4]\n",
      "[0, 1, 4, 9]\n",
      "[0, 1, 4, 9, 16]\n",
      "[0, 1, 4, 9, 16, 25]\n",
      "[0, 1, 4, 9, 16, 25, 36]\n",
      "[0, 1, 4, 9, 16, 25, 36, 49]\n",
      "[0, 1, 4, 9, 16, 25, 36, 49, 64]\n",
      "[0, 1, 4, 9, 16, 25, 36, 49, 64, 81]\n",
      "[0, 1, 4, 9, 16, 25, 36, 49, 64, 81]\n"
     ]
    }
   ],
   "source": [
    "squares = []\n",
    "for x in range(10):\n",
    "    squares.append(x**2)\n",
    "    print(squares) #shows the computing process inside the loop\n",
    "print(squares) #shwos the final line of result"
   ]
  },
  {
   "cell_type": "markdown",
   "id": "0f038a72",
   "metadata": {},
   "source": [
    "`list.append()` is explained here: Add an item to the end of the list. Equivalent to `a[len(a):] = [x]` https://docs.python.org/3/tutorial/datastructures.html\n",
    "\n",
    "__________________________________________________________"
   ]
  },
  {
   "cell_type": "markdown",
   "id": "acbe35ca",
   "metadata": {},
   "source": [
    "Note that this creates (or overwrites) a variable named x that still exists after the loop completes. We can calculate the list of squares without any side effects using the following example. **The following example is using a List Comperhension**"
   ]
  },
  {
   "cell_type": "code",
   "execution_count": 26,
   "id": "8799afc3",
   "metadata": {},
   "outputs": [
    {
     "data": {
      "text/plain": [
       "[0, 1, 4, 9, 16, 25, 36, 49, 64, 81]"
      ]
     },
     "execution_count": 26,
     "metadata": {},
     "output_type": "execute_result"
    }
   ],
   "source": [
    "squares = list(map(lambda x: x**2, range(10)))\n",
    "squares"
   ]
  },
  {
   "cell_type": "markdown",
   "id": "2ab7e24e",
   "metadata": {},
   "source": [
    "or, equivalently:"
   ]
  },
  {
   "cell_type": "code",
   "execution_count": 58,
   "id": "36318ede",
   "metadata": {},
   "outputs": [
    {
     "data": {
      "text/plain": [
       "[0, 1, 4, 9, 16, 25, 36, 49, 64, 81]"
      ]
     },
     "execution_count": 58,
     "metadata": {},
     "output_type": "execute_result"
    }
   ],
   "source": [
    "squares = [x**2 for x in range(10)]\n",
    "squares"
   ]
  },
  {
   "cell_type": "markdown",
   "id": "699e3caa",
   "metadata": {},
   "source": [
    "`lambada expression` is explained here: https://docs.python.org/3/tutorial/controlflow.html#lambda-expressions\n",
    "\n",
    "Small anonymous functions can be created with the lambda keyword. This function returns the sum of its two arguments: `lambda a, b: a+b`. Lambda functions can be used wherever function objects are required. They are syntactically restricted to a single expression. Semantically, they are just syntactic sugar for a normal function definition. Like nested function definitions, lambda functions can reference variables from the containing scope:"
   ]
  },
  {
   "cell_type": "markdown",
   "id": "c496c5c8",
   "metadata": {},
   "source": [
    "`map()` function is explained here: https://docs.python.org/3/library/functions.html?highlight=map#map\n",
    "\n",
    "Return an iterator that applies function to every item of iterable, yielding the results. If additional iterables arguments are passed, function must take that many arguments and is applied to the items from all iterables in parallel. With multiple iterables, the iterator stops when the shortest iterable is exhausted. For cases where the function inputs are already arranged into argument tuples, see itertools.starmap()."
   ]
  },
  {
   "cell_type": "markdown",
   "id": "ab1ee2ab",
   "metadata": {},
   "source": [
    "_________________________________________________________\n",
    "\n",
    "A list comprehension consists of brackets containing an expression followed by a for clause, then zero or more for or if clauses. The result will be a new list resulting from evaluating the expression in the context of the for and if clauses which follow it. For example, this listcomp combines the elements of two lists if they are not equal:"
   ]
  },
  {
   "cell_type": "code",
   "execution_count": 35,
   "id": "d902cdd9",
   "metadata": {},
   "outputs": [
    {
     "data": {
      "text/plain": [
       "[(1, 3), (1, 4), (2, 3), (2, 1), (2, 4), (3, 1), (3, 4)]"
      ]
     },
     "execution_count": 35,
     "metadata": {},
     "output_type": "execute_result"
    }
   ],
   "source": [
    "[(x,y) for x in [1,2,3] for y in [3,1,4] if x != y]"
   ]
  },
  {
   "cell_type": "markdown",
   "id": "e49da56d",
   "metadata": {},
   "source": [
    "and it's equivalent to:"
   ]
  },
  {
   "cell_type": "code",
   "execution_count": 40,
   "id": "613d1a1c",
   "metadata": {},
   "outputs": [
    {
     "name": "stdout",
     "output_type": "stream",
     "text": [
      "[(1, 3), (1, 4), (2, 3), (2, 1), (2, 4), (3, 1), (3, 4)]\n"
     ]
    }
   ],
   "source": [
    "combs = []\n",
    "\n",
    "for x in [1,2,3]:\n",
    "    for y in [3,1,4]:\n",
    "        if x != y:\n",
    "            combs.append((x,y))\n",
    "print(combs)"
   ]
  },
  {
   "cell_type": "markdown",
   "id": "f5e06912",
   "metadata": {},
   "source": [
    "If the expression is a tuple (e.g. the (x, y) in the previous example), it must be parenthesized."
   ]
  },
  {
   "cell_type": "code",
   "execution_count": 43,
   "id": "de6ee96d",
   "metadata": {},
   "outputs": [
    {
     "data": {
      "text/plain": [
       "[-8, -4, 0, 4, 8]"
      ]
     },
     "execution_count": 43,
     "metadata": {},
     "output_type": "execute_result"
    }
   ],
   "source": [
    "vec = [-4,-2,0,2,4]\n",
    "\n",
    "# create a new list with the values doubled\n",
    "[x*2 for x in vec]"
   ]
  },
  {
   "cell_type": "code",
   "execution_count": 44,
   "id": "695df288",
   "metadata": {},
   "outputs": [
    {
     "data": {
      "text/plain": [
       "[0, 2, 4]"
      ]
     },
     "execution_count": 44,
     "metadata": {},
     "output_type": "execute_result"
    }
   ],
   "source": [
    "# filter the list to exclude negative numbers\n",
    "[x for x in vec if x>= 0]"
   ]
  },
  {
   "cell_type": "code",
   "execution_count": 47,
   "id": "cd8c9488",
   "metadata": {},
   "outputs": [
    {
     "data": {
      "text/plain": [
       "[4, 2, 0, 2, 4]"
      ]
     },
     "execution_count": 47,
     "metadata": {},
     "output_type": "execute_result"
    }
   ],
   "source": [
    "# apply a function to all the elements\n",
    "[abs(x) for x in vec]"
   ]
  },
  {
   "cell_type": "markdown",
   "id": "49b72dd6",
   "metadata": {},
   "source": [
    "Python built in functions: https://docs.python.org/3/library/functions.html\n",
    "\n",
    "[`abs()` is explained here](https://docs.python.org/3/library/functions.html#abs)\n",
    "Returns the absolute value of a number. The argument may be an integer, a floating point number, or an object implementing `abs()`. If the argument is a complex number, its magnitude is returned."
   ]
  },
  {
   "cell_type": "code",
   "execution_count": 56,
   "id": "e893db99",
   "metadata": {},
   "outputs": [
    {
     "data": {
      "text/plain": [
       "['banana', 'loganberry', 'passion fruit']"
      ]
     },
     "execution_count": 56,
     "metadata": {},
     "output_type": "execute_result"
    }
   ],
   "source": [
    "# call a method on each element\n",
    "freshfruit = ['banana', 'loganberry', 'passion fruit']\n",
    "[weapon.strip() for weapon in freshfruit]\n",
    "\n",
    "#❗i don't really understand this example 🙄🙄🙄\n",
    "#what is `.strip`???"
   ]
  },
  {
   "cell_type": "markdown",
   "id": "6c87c1a0",
   "metadata": {},
   "source": [
    "`tuple` is explained here: https://www.w3schools.com/python/python_tuples.asp#:~:text=Tuples%20are%20used%20to%20store,which%20is%20ordered%20and%20unchangeable.\n",
    "\n",
    "\n",
    "Tuples are used to store multiple items in a single variable.\n",
    "\n",
    "Tuple is one of 4 built-in data types in Python used to store collections of data, the other 3 are `List`, `Set`, and `Dictionary`, all with different qualities and usage.\n",
    "\n",
    "A tuple is a collection which is ordered and unchangeable. Tuples are written with round brackets: `tuple_example = (1,2,3)`"
   ]
  },
  {
   "cell_type": "code",
   "execution_count": 57,
   "id": "9f35dce5",
   "metadata": {},
   "outputs": [
    {
     "data": {
      "text/plain": [
       "[(0, 0), (1, 1), (2, 4), (3, 9), (4, 16), (5, 25)]"
      ]
     },
     "execution_count": 57,
     "metadata": {},
     "output_type": "execute_result"
    }
   ],
   "source": [
    "# create a list of 2-tuples like (number, square)\n",
    "[(x, x**2) for x in range(6)]"
   ]
  },
  {
   "cell_type": "code",
   "execution_count": 59,
   "id": "18142d87",
   "metadata": {},
   "outputs": [
    {
     "ename": "SyntaxError",
     "evalue": "invalid syntax (4005701288.py, line 2)",
     "output_type": "error",
     "traceback": [
      "\u001b[0;36m  File \u001b[0;32m\"/var/folders/df/tzfnf_r155v72q063dfdcfjw0000gn/T/ipykernel_3695/4005701288.py\"\u001b[0;36m, line \u001b[0;32m2\u001b[0m\n\u001b[0;31m    [x,x**2 for x in range(6)]\u001b[0m\n\u001b[0m            ^\u001b[0m\n\u001b[0;31mSyntaxError\u001b[0m\u001b[0;31m:\u001b[0m invalid syntax\n"
     ]
    }
   ],
   "source": [
    "# the tuple must be parenthesized, otherwise an error is raised\n",
    "[x,x**2 for x in range(6)]"
   ]
  },
  {
   "cell_type": "code",
   "execution_count": 60,
   "id": "52c46bef",
   "metadata": {},
   "outputs": [
    {
     "data": {
      "text/plain": [
       "[1, 2, 3, 4, 5, 6, 7, 8, 9]"
      ]
     },
     "execution_count": 60,
     "metadata": {},
     "output_type": "execute_result"
    }
   ],
   "source": [
    "# flatten a list using a listcomp with two 'for'\n",
    "vec = [[1,2,3],[4,5,6],[7,8,9]]\n",
    "[num for elem in vec for num in elem]"
   ]
  },
  {
   "cell_type": "markdown",
   "id": "5063b483",
   "metadata": {},
   "source": [
    "List comprehensions can contain complex expressions and nested functions:"
   ]
  },
  {
   "cell_type": "code",
   "execution_count": 61,
   "id": "e082f07c",
   "metadata": {},
   "outputs": [
    {
     "data": {
      "text/plain": [
       "['3.1', '3.14', '3.142', '3.1416', '3.14159']"
      ]
     },
     "execution_count": 61,
     "metadata": {},
     "output_type": "execute_result"
    }
   ],
   "source": [
    "from math import pi\n",
    "[str(round(pi,i)) for i in range(1,6)]"
   ]
  }
 ],
 "metadata": {
  "kernelspec": {
   "display_name": "Python 3 (ipykernel)",
   "language": "python",
   "name": "python3"
  },
  "language_info": {
   "codemirror_mode": {
    "name": "ipython",
    "version": 3
   },
   "file_extension": ".py",
   "mimetype": "text/x-python",
   "name": "python",
   "nbconvert_exporter": "python",
   "pygments_lexer": "ipython3",
   "version": "3.9.13"
  }
 },
 "nbformat": 4,
 "nbformat_minor": 5
}
